{
  "nbformat": 4,
  "nbformat_minor": 0,
  "metadata": {
    "accelerator": "GPU",
    "colab": {
      "name": " H1B Prediction.ipynb",
      "provenance": [],
      "collapsed_sections": [
        "hjkkUJU1xN4f",
        "X35ztXZl9o8W",
        "FApWfFlp3QX7",
        "n43CkEzL_t4c",
        "2PWFzacK86mo",
        "2fGo7slE94MR",
        "er-H7YlsEPpj",
        "jtNz63OJiRI8",
        "_hypOWp_giI_"
      ],
      "machine_shape": "hm"
    },
    "kernelspec": {
      "display_name": "Python 3",
      "language": "python",
      "name": "python3"
    },
    "language_info": {
      "codemirror_mode": {
        "name": "ipython",
        "version": 3
      },
      "file_extension": ".py",
      "mimetype": "text/x-python",
      "name": "python",
      "nbconvert_exporter": "python",
      "pygments_lexer": "ipython3",
      "version": "3.7.6"
    }
  },
  "cells": [
    {
      "cell_type": "markdown",
      "metadata": {
        "id": "C2qaPMilQfGn"
      },
      "source": [
        "IMPORTS\n"
      ]
    },
    {
      "cell_type": "code",
      "metadata": {
        "id": "yznlW_yKN7lj"
      },
      "source": [
        "import seaborn as sns\n",
        "import os\n",
        "import pandas as pd\n",
        "import matplotlib.pyplot as plt\n",
        "import csv\n",
        "import numpy as np\n",
        "%matplotlib inline\n",
        "import cv2\n",
        "import glob\n",
        "import keras\n",
        "from IPython.display import Image\n",
        "from sklearn.model_selection import train_test_split\n",
        "from sklearn.neighbors import KNeighborsClassifier\n",
        "from sklearn import metrics\n",
        "from sklearn.metrics import confusion_matrix, classification_report\n",
        "from sklearn.linear_model import LogisticRegression\n",
        "from sklearn.metrics import roc_curve, auc\n",
        "from sklearn.pipeline import Pipeline\n",
        "from sklearn.preprocessing import StandardScaler\n",
        "from sklearn.svm import LinearSVC\n",
        "from sklearn.svm import SVC\n",
        "from sklearn import metrics\n",
        "from sklearn.metrics import confusion_matrix, classification_report\n",
        "from sklearn.linear_model import LogisticRegression\n",
        "from sklearn import metrics\n",
        "from sklearn import datasets,linear_model, preprocessing,utils\n",
        "from sklearn.metrics import mean_squared_error,r2_score\n",
        "from sklearn.preprocessing import MinMaxScaler\n",
        "from matplotlib.pyplot import figure, show\n",
        "from keras.layers import Conv1D, Conv2D, MaxPooling2D \n",
        "from keras.callbacks import ModelCheckpoint\n",
        "from keras.callbacks import EarlyStopping\n",
        "from keras.models import Sequential\n",
        "from keras.layers.core import Dense, Activation, Flatten ,Dropout\n",
        "from keras.preprocessing import sequence\n",
        "from keras.models import Sequential\n",
        "from keras.layers import Dense, Embedding\n",
        "from keras.callbacks import EarlyStopping\n",
        "from keras import optimizers\n",
        "from keras.optimizers import Adam\n",
        "from sklearn.preprocessing import LabelBinarizer\n",
        "from sklearn.model_selection import train_test_split\n",
        "from keras.layers import concatenate\n",
        "from keras.models import Model\n",
        "from keras.utils import plot_model\n",
        "from keras.models import Model\n",
        "from keras.layers import Input\n",
        "from keras.layers.convolutional import Conv2D\n",
        "from keras.layers.pooling import MaxPooling2D\n",
        "from keras.layers.merge import concatenate\n",
        "from IPython.display import Image\n",
        "import warnings\n",
        "warnings.filterwarnings(\"ignore\")"
      ],
      "execution_count": 1,
      "outputs": []
    },
    {
      "cell_type": "markdown",
      "metadata": {
        "id": "Dlf4mPY9Qk8R"
      },
      "source": [
        "HELPER FUNCTIONS"
      ]
    },
    {
      "cell_type": "code",
      "metadata": {
        "id": "S6CVGtbhQeVo"
      },
      "source": [
        " #Encode text values to dummy variables(i.e. [1,0,0],[0,1,0],[0,0,1] for red,green,blue)\n",
        "def encode_text_dummy(df, name):\n",
        "    dummies = pd.get_dummies(df[name])\n",
        "    for x in dummies.columns:\n",
        "        dummy_name = \"{}-{}\".format(name, x)\n",
        "        df[dummy_name] = dummies[x]\n",
        "    df.drop(name, axis=1, inplace=True)\n",
        "\n",
        "# Encode a numeric column as zscores\n",
        "def encode_numeric_zscore(df, name, mean=None, sd=None):\n",
        "    if mean is None:\n",
        "        mean = df[name].mean()\n",
        "\n",
        "    if sd is None:\n",
        "        sd = df[name].std()\n",
        "\n",
        "    df[name] = (df[name] - mean) / sd\n",
        "\n",
        "    \n",
        "def get_outliers_row_idecies(df, name, sd):\n",
        "    outliers_row_indecies = df.index[(np.abs(df[name] - df[name].mean()) >= (sd * df[name].std()))]\n",
        "    return outliers_row_indecies\n",
        "\n",
        "# Regression chart.\n",
        "\n",
        "def chart_regression(pred,y,sort=True):\n",
        "    t = pd.DataFrame({'pred' : pred, 'y' : y.flatten()})\n",
        "    if sort:\n",
        "        t.sort_values(by=['y'],inplace=True)\n",
        "    a = plt.plot(t['y'].tolist(),label='expected')\n",
        "    b = plt.plot(t['pred'].tolist(),label='prediction')\n",
        "    plt.ylabel('output')\n",
        "    plt.legend()\n",
        "    plt.show()\n",
        "\n",
        "# Encode text values to indexes(i.e. [1],[2],[3] for red,green,blue).\n",
        "def encode_text_index(df, name):\n",
        "    le = preprocessing.LabelEncoder()\n",
        "    df[name] = le.fit_transform(df[name])\n",
        "    return le.classes_\n",
        "\n",
        "\n",
        "# Encode a numeric column as zscores\n",
        "def encode_numeric_zscore(df, name, mean=None, sd=None):\n",
        "    if mean is None:\n",
        "        mean = df[name].mean()\n",
        "\n",
        "    if sd is None:\n",
        "        sd = df[name].std()\n",
        "\n",
        "    df[name] = (df[name] - mean) / sd\n",
        "\n",
        "\n",
        "# Convert all missing values in the specified column to the median\n",
        "def missing_median(df, name):\n",
        "    med = df[name].median()\n",
        "    df[name] = df[name].fillna(med)\n",
        "\n",
        "\n",
        "# Convert all missing values in the specified column to the default\n",
        "def missing_default(df, name, default_value):\n",
        "    df[name] = df[name].fillna(default_value)\n",
        "\n",
        "\n",
        "# Convert a Pandas dataframe to the x,y inputs that TensorFlow needs\n",
        "def to_xy(df, target):\n",
        "    result = []\n",
        "    for x in df.columns:\n",
        "        if x != target:\n",
        "            result.append(x)\n",
        "    # find out the type of the target column. \n",
        "    target_type = df[target].dtypes\n",
        "    target_type = target_type[0] if isinstance(target_type, Sequence) else target_type\n",
        "    # Encode to int for classification, float otherwise. TensorFlow likes 32 bits.\n",
        "    if target_type in (np.int64, np.int32):\n",
        "        # Classification\n",
        "        dummies = pd.get_dummies(df[target])\n",
        "        return df[result].values.astype(np.float32), dummies.values.astype(np.float32)\n",
        "    else:\n",
        "        # Regression\n",
        "        return df[result].values.astype(np.float32), df[target].values.astype(np.float32)\n",
        "\n",
        "# Nicely formatted time string\n",
        "def hms_string(sec_elapsed):\n",
        "    h = int(sec_elapsed / (60 * 60))\n",
        "    m = int((sec_elapsed % (60 * 60)) / 60)\n",
        "    s = sec_elapsed % 60\n",
        "    return \"{}:{:>02}:{:>05.2f}\".format(h, m, s)\n",
        "\n",
        "\n",
        "# Regression chart.\n",
        "def chart_regression(pred,y,sort=True):\n",
        "    t = pd.DataFrame({'pred' : pred, 'y' : y.flatten()})\n",
        "    if sort:\n",
        "        t.sort_values(by=['y'],inplace=True)\n",
        "    a = plt.plot(t['y'].tolist(),label='expected')\n",
        "    b = plt.plot(t['pred'].tolist(),label='prediction')\n",
        "    plt.ylabel('output')\n",
        "    plt.legend()\n",
        "    plt.show()\n",
        "\n",
        "# Remove all rows where the specified column is +/- sd standard deviations\n",
        "def remove_outliers(df, name, sd):\n",
        "    drop_rows = df.index[(np.abs(df[name] - df[name].mean()) >= (sd * df[name].std()))]\n",
        "    df.drop(drop_rows, axis=0, inplace=True)\n",
        "\n",
        "\n",
        "# Encode a column to a range between normalized_low and normalized_high.\n",
        "def encode_numeric_range(df, name, normalized_low=-1, normalized_high=1,\n",
        "                         data_low=None, data_high=None):\n",
        "    if data_low is None:\n",
        "        data_low = min(df[name])\n",
        "        data_high = max(df[name])\n",
        "\n",
        "    df[name] = ((df[name] - data_low) / (data_high - data_low)) \\\n",
        "               * (normalized_high - normalized_low) + normalized_low\n",
        "\n",
        "# Plot a confusion matrix.\n",
        "# cm is the confusion matrix, names are the names of the classes.\n",
        "def plot_confusion_matrix(cm, names, title='Confusion matrix', cmap=plt.cm.Blues):\n",
        "    plt.imshow(cm, interpolation='nearest', cmap=cmap)\n",
        "    plt.title(title)\n",
        "    plt.colorbar()\n",
        "    tick_marks = np.arange(len(names))\n",
        "    plt.xticks(tick_marks, names, rotation=45)\n",
        "    plt.yticks(tick_marks, names)\n",
        "    plt.tight_layout()\n",
        "    plt.ylabel('True label')\n",
        "    plt.xlabel('Predicted label')\n",
        "    \n",
        "\n",
        "# Plot an ROC. pred - the predictions, y - the expected output.\n",
        "def plot_roc(pred,y):\n",
        "    fpr, tpr, thresholds = roc_curve(y, pred)\n",
        "    roc_auc = auc(fpr, tpr)\n",
        "\n",
        "    plt.figure()\n",
        "    plt.plot(fpr, tpr, label='ROC curve (area = %0.2f)' % roc_auc)\n",
        "    plt.plot([0, 1], [0, 1], 'k--')\n",
        "    plt.xlim([0.0, 1.0])\n",
        "    plt.ylim([0.0, 1.05])\n",
        "    plt.xlabel('False Positive Rate')\n",
        "    plt.ylabel('True Positive Rate')\n",
        "    plt.title('Receiver Operating Characteristic (ROC)')\n",
        "    plt.legend(loc=\"lower right\")\n",
        "    plt.show()\n"
      ],
      "execution_count": 2,
      "outputs": []
    },
    {
      "cell_type": "markdown",
      "metadata": {
        "id": "hhRvXqQDaLsw"
      },
      "source": [
        "Mounting to Drive"
      ]
    },
    {
      "cell_type": "code",
      "metadata": {
        "colab": {
          "base_uri": "https://localhost:8080/"
        },
        "id": "EeeJmz_CQqOJ",
        "outputId": "7153a0ed-cf9b-4108-833f-fd7609dec39d"
      },
      "source": [
        "from google.colab import drive\n",
        "drive.mount('/content/drive')"
      ],
      "execution_count": 3,
      "outputs": [
        {
          "output_type": "stream",
          "text": [
            "Mounted at /content/drive\n"
          ],
          "name": "stdout"
        }
      ]
    },
    {
      "cell_type": "markdown",
      "metadata": {
        "id": "Ln4XeiaDaRhX"
      },
      "source": [
        "Checking the file imported correctly with columns and rows"
      ]
    },
    {
      "cell_type": "code",
      "metadata": {
        "id": "yUuT0aEHhsiE"
      },
      "source": [
        "path = \"/content/drive/My Drive/FINAL DATASET/dataset\"\n",
        "    \n",
        "filename_train = os.path.join(path,\"h1b_kaggle.csv\") "
      ],
      "execution_count": 4,
      "outputs": []
    },
    {
      "cell_type": "code",
      "metadata": {
        "colab": {
          "base_uri": "https://localhost:8080/",
          "height": 324
        },
        "id": "iEWXZOaqRPSv",
        "outputId": "60ab2625-4f55-436c-b4e3-c880528791dd"
      },
      "source": [
        "initial_data = pd.read_csv(filename_train,na_values=['NA','?','-'])\n",
        "print(initial_data.shape)\n",
        "initial_data.head()\n",
        "#initial_data = initial_data.drop(' ',axis=1)"
      ],
      "execution_count": 5,
      "outputs": [
        {
          "output_type": "stream",
          "text": [
            "(1048575, 11)\n"
          ],
          "name": "stdout"
        },
        {
          "output_type": "execute_result",
          "data": {
            "text/html": [
              "<div>\n",
              "<style scoped>\n",
              "    .dataframe tbody tr th:only-of-type {\n",
              "        vertical-align: middle;\n",
              "    }\n",
              "\n",
              "    .dataframe tbody tr th {\n",
              "        vertical-align: top;\n",
              "    }\n",
              "\n",
              "    .dataframe thead th {\n",
              "        text-align: right;\n",
              "    }\n",
              "</style>\n",
              "<table border=\"1\" class=\"dataframe\">\n",
              "  <thead>\n",
              "    <tr style=\"text-align: right;\">\n",
              "      <th></th>\n",
              "      <th>Unnamed: 0</th>\n",
              "      <th>CASE_STATUS</th>\n",
              "      <th>EMPLOYER_NAME</th>\n",
              "      <th>SOC_NAME</th>\n",
              "      <th>JOB_TITLE</th>\n",
              "      <th>FULL_TIME_POSITION</th>\n",
              "      <th>PREVAILING_WAGE</th>\n",
              "      <th>YEAR</th>\n",
              "      <th>WORKSITE</th>\n",
              "      <th>lon</th>\n",
              "      <th>lat</th>\n",
              "    </tr>\n",
              "  </thead>\n",
              "  <tbody>\n",
              "    <tr>\n",
              "      <th>0</th>\n",
              "      <td>1</td>\n",
              "      <td>CERTIFIED-WITHDRAWN</td>\n",
              "      <td>UNIVERSITY OF MICHIGAN</td>\n",
              "      <td>BIOCHEMISTS AND BIOPHYSICISTS</td>\n",
              "      <td>POSTDOCTORAL RESEARCH FELLOW</td>\n",
              "      <td>N</td>\n",
              "      <td>36067.0</td>\n",
              "      <td>2016</td>\n",
              "      <td>ANN ARBOR, MICHIGAN</td>\n",
              "      <td>-83.743038</td>\n",
              "      <td>42.280826</td>\n",
              "    </tr>\n",
              "    <tr>\n",
              "      <th>1</th>\n",
              "      <td>2</td>\n",
              "      <td>CERTIFIED-WITHDRAWN</td>\n",
              "      <td>GOODMAN NETWORKS, INC.</td>\n",
              "      <td>CHIEF EXECUTIVES</td>\n",
              "      <td>CHIEF OPERATING OFFICER</td>\n",
              "      <td>Y</td>\n",
              "      <td>242674.0</td>\n",
              "      <td>2016</td>\n",
              "      <td>PLANO, TEXAS</td>\n",
              "      <td>-96.698886</td>\n",
              "      <td>33.019843</td>\n",
              "    </tr>\n",
              "    <tr>\n",
              "      <th>2</th>\n",
              "      <td>3</td>\n",
              "      <td>CERTIFIED-WITHDRAWN</td>\n",
              "      <td>PORTS AMERICA GROUP, INC.</td>\n",
              "      <td>CHIEF EXECUTIVES</td>\n",
              "      <td>CHIEF PROCESS OFFICER</td>\n",
              "      <td>Y</td>\n",
              "      <td>193066.0</td>\n",
              "      <td>2016</td>\n",
              "      <td>JERSEY CITY, NEW JERSEY</td>\n",
              "      <td>-74.077642</td>\n",
              "      <td>40.728158</td>\n",
              "    </tr>\n",
              "    <tr>\n",
              "      <th>3</th>\n",
              "      <td>4</td>\n",
              "      <td>CERTIFIED-WITHDRAWN</td>\n",
              "      <td>GATES CORPORATION, A WHOLLY-OWNED SUBSIDIARY O...</td>\n",
              "      <td>CHIEF EXECUTIVES</td>\n",
              "      <td>REGIONAL PRESIDEN, AMERICAS</td>\n",
              "      <td>Y</td>\n",
              "      <td>220314.0</td>\n",
              "      <td>2016</td>\n",
              "      <td>DENVER, COLORADO</td>\n",
              "      <td>-104.990251</td>\n",
              "      <td>39.739236</td>\n",
              "    </tr>\n",
              "    <tr>\n",
              "      <th>4</th>\n",
              "      <td>5</td>\n",
              "      <td>WITHDRAWN</td>\n",
              "      <td>PEABODY INVESTMENTS CORP.</td>\n",
              "      <td>CHIEF EXECUTIVES</td>\n",
              "      <td>PRESIDENT MONGOLIA AND INDIA</td>\n",
              "      <td>Y</td>\n",
              "      <td>157518.4</td>\n",
              "      <td>2016</td>\n",
              "      <td>ST. LOUIS, MISSOURI</td>\n",
              "      <td>-90.199404</td>\n",
              "      <td>38.627003</td>\n",
              "    </tr>\n",
              "  </tbody>\n",
              "</table>\n",
              "</div>"
            ],
            "text/plain": [
              "   Unnamed: 0          CASE_STATUS  ...         lon        lat\n",
              "0           1  CERTIFIED-WITHDRAWN  ...  -83.743038  42.280826\n",
              "1           2  CERTIFIED-WITHDRAWN  ...  -96.698886  33.019843\n",
              "2           3  CERTIFIED-WITHDRAWN  ...  -74.077642  40.728158\n",
              "3           4  CERTIFIED-WITHDRAWN  ... -104.990251  39.739236\n",
              "4           5            WITHDRAWN  ...  -90.199404  38.627003\n",
              "\n",
              "[5 rows x 11 columns]"
            ]
          },
          "metadata": {
            "tags": []
          },
          "execution_count": 5
        }
      ]
    },
    {
      "cell_type": "markdown",
      "metadata": {
        "id": "Xbd_Zn-sVWke"
      },
      "source": [
        "### **Dropped Unnamed column**"
      ]
    },
    {
      "cell_type": "code",
      "metadata": {
        "colab": {
          "base_uri": "https://localhost:8080/",
          "height": 272
        },
        "id": "qTrOg7R5kTWw",
        "outputId": "6f1fd233-b645-469e-9582-a3c933c9c107"
      },
      "source": [
        "initial_data.rename({\"Unnamed: 0\":\"ID\"}, axis=\"columns\", inplace=True)\n",
        "initial_data = initial_data.drop('ID', axis = 1)\n",
        "initial_data.head() "
      ],
      "execution_count": 6,
      "outputs": [
        {
          "output_type": "execute_result",
          "data": {
            "text/html": [
              "<div>\n",
              "<style scoped>\n",
              "    .dataframe tbody tr th:only-of-type {\n",
              "        vertical-align: middle;\n",
              "    }\n",
              "\n",
              "    .dataframe tbody tr th {\n",
              "        vertical-align: top;\n",
              "    }\n",
              "\n",
              "    .dataframe thead th {\n",
              "        text-align: right;\n",
              "    }\n",
              "</style>\n",
              "<table border=\"1\" class=\"dataframe\">\n",
              "  <thead>\n",
              "    <tr style=\"text-align: right;\">\n",
              "      <th></th>\n",
              "      <th>CASE_STATUS</th>\n",
              "      <th>EMPLOYER_NAME</th>\n",
              "      <th>SOC_NAME</th>\n",
              "      <th>JOB_TITLE</th>\n",
              "      <th>FULL_TIME_POSITION</th>\n",
              "      <th>PREVAILING_WAGE</th>\n",
              "      <th>YEAR</th>\n",
              "      <th>WORKSITE</th>\n",
              "      <th>lon</th>\n",
              "      <th>lat</th>\n",
              "    </tr>\n",
              "  </thead>\n",
              "  <tbody>\n",
              "    <tr>\n",
              "      <th>0</th>\n",
              "      <td>CERTIFIED-WITHDRAWN</td>\n",
              "      <td>UNIVERSITY OF MICHIGAN</td>\n",
              "      <td>BIOCHEMISTS AND BIOPHYSICISTS</td>\n",
              "      <td>POSTDOCTORAL RESEARCH FELLOW</td>\n",
              "      <td>N</td>\n",
              "      <td>36067.0</td>\n",
              "      <td>2016</td>\n",
              "      <td>ANN ARBOR, MICHIGAN</td>\n",
              "      <td>-83.743038</td>\n",
              "      <td>42.280826</td>\n",
              "    </tr>\n",
              "    <tr>\n",
              "      <th>1</th>\n",
              "      <td>CERTIFIED-WITHDRAWN</td>\n",
              "      <td>GOODMAN NETWORKS, INC.</td>\n",
              "      <td>CHIEF EXECUTIVES</td>\n",
              "      <td>CHIEF OPERATING OFFICER</td>\n",
              "      <td>Y</td>\n",
              "      <td>242674.0</td>\n",
              "      <td>2016</td>\n",
              "      <td>PLANO, TEXAS</td>\n",
              "      <td>-96.698886</td>\n",
              "      <td>33.019843</td>\n",
              "    </tr>\n",
              "    <tr>\n",
              "      <th>2</th>\n",
              "      <td>CERTIFIED-WITHDRAWN</td>\n",
              "      <td>PORTS AMERICA GROUP, INC.</td>\n",
              "      <td>CHIEF EXECUTIVES</td>\n",
              "      <td>CHIEF PROCESS OFFICER</td>\n",
              "      <td>Y</td>\n",
              "      <td>193066.0</td>\n",
              "      <td>2016</td>\n",
              "      <td>JERSEY CITY, NEW JERSEY</td>\n",
              "      <td>-74.077642</td>\n",
              "      <td>40.728158</td>\n",
              "    </tr>\n",
              "    <tr>\n",
              "      <th>3</th>\n",
              "      <td>CERTIFIED-WITHDRAWN</td>\n",
              "      <td>GATES CORPORATION, A WHOLLY-OWNED SUBSIDIARY O...</td>\n",
              "      <td>CHIEF EXECUTIVES</td>\n",
              "      <td>REGIONAL PRESIDEN, AMERICAS</td>\n",
              "      <td>Y</td>\n",
              "      <td>220314.0</td>\n",
              "      <td>2016</td>\n",
              "      <td>DENVER, COLORADO</td>\n",
              "      <td>-104.990251</td>\n",
              "      <td>39.739236</td>\n",
              "    </tr>\n",
              "    <tr>\n",
              "      <th>4</th>\n",
              "      <td>WITHDRAWN</td>\n",
              "      <td>PEABODY INVESTMENTS CORP.</td>\n",
              "      <td>CHIEF EXECUTIVES</td>\n",
              "      <td>PRESIDENT MONGOLIA AND INDIA</td>\n",
              "      <td>Y</td>\n",
              "      <td>157518.4</td>\n",
              "      <td>2016</td>\n",
              "      <td>ST. LOUIS, MISSOURI</td>\n",
              "      <td>-90.199404</td>\n",
              "      <td>38.627003</td>\n",
              "    </tr>\n",
              "  </tbody>\n",
              "</table>\n",
              "</div>"
            ],
            "text/plain": [
              "           CASE_STATUS  ...        lat\n",
              "0  CERTIFIED-WITHDRAWN  ...  42.280826\n",
              "1  CERTIFIED-WITHDRAWN  ...  33.019843\n",
              "2  CERTIFIED-WITHDRAWN  ...  40.728158\n",
              "3  CERTIFIED-WITHDRAWN  ...  39.739236\n",
              "4            WITHDRAWN  ...  38.627003\n",
              "\n",
              "[5 rows x 10 columns]"
            ]
          },
          "metadata": {
            "tags": []
          },
          "execution_count": 6
        }
      ]
    },
    {
      "cell_type": "code",
      "metadata": {
        "colab": {
          "base_uri": "https://localhost:8080/",
          "height": 289
        },
        "id": "KLsdYxANpNjt",
        "outputId": "31c46fa3-7e2a-4b4b-fbb8-3eb117781c9a"
      },
      "source": [
        "initial_data.tail()  "
      ],
      "execution_count": 7,
      "outputs": [
        {
          "output_type": "execute_result",
          "data": {
            "text/html": [
              "<div>\n",
              "<style scoped>\n",
              "    .dataframe tbody tr th:only-of-type {\n",
              "        vertical-align: middle;\n",
              "    }\n",
              "\n",
              "    .dataframe tbody tr th {\n",
              "        vertical-align: top;\n",
              "    }\n",
              "\n",
              "    .dataframe thead th {\n",
              "        text-align: right;\n",
              "    }\n",
              "</style>\n",
              "<table border=\"1\" class=\"dataframe\">\n",
              "  <thead>\n",
              "    <tr style=\"text-align: right;\">\n",
              "      <th></th>\n",
              "      <th>CASE_STATUS</th>\n",
              "      <th>EMPLOYER_NAME</th>\n",
              "      <th>SOC_NAME</th>\n",
              "      <th>JOB_TITLE</th>\n",
              "      <th>FULL_TIME_POSITION</th>\n",
              "      <th>PREVAILING_WAGE</th>\n",
              "      <th>YEAR</th>\n",
              "      <th>WORKSITE</th>\n",
              "      <th>lon</th>\n",
              "      <th>lat</th>\n",
              "    </tr>\n",
              "  </thead>\n",
              "  <tbody>\n",
              "    <tr>\n",
              "      <th>1048570</th>\n",
              "      <td>CERTIFIED</td>\n",
              "      <td>LARSEN &amp; TOUBRO INFOTECH LIMITED</td>\n",
              "      <td>COMPUTER PROGRAMMERS</td>\n",
              "      <td>COMPUTER PROGRAMMER</td>\n",
              "      <td>Y</td>\n",
              "      <td>51605.0</td>\n",
              "      <td>2015</td>\n",
              "      <td>HOUSTON, TEXAS</td>\n",
              "      <td>-95.369803</td>\n",
              "      <td>29.760427</td>\n",
              "    </tr>\n",
              "    <tr>\n",
              "      <th>1048571</th>\n",
              "      <td>CERTIFIED</td>\n",
              "      <td>ALLSCRIPTS HEALTHCARE, LLC</td>\n",
              "      <td>MANAGERS, ALL OTHER</td>\n",
              "      <td>MANAGER, PROFESSIONAL SERVICES</td>\n",
              "      <td>Y</td>\n",
              "      <td>103792.0</td>\n",
              "      <td>2015</td>\n",
              "      <td>PITTSBURGH, PENNSYLVANIA</td>\n",
              "      <td>-79.995886</td>\n",
              "      <td>40.440625</td>\n",
              "    </tr>\n",
              "    <tr>\n",
              "      <th>1048572</th>\n",
              "      <td>CERTIFIED</td>\n",
              "      <td>HEALTHLINE NETWORKS, INC.</td>\n",
              "      <td>SOFTWARE DEVELOPERS, APPLICATIONS</td>\n",
              "      <td>SENIOR UI ENGINEER</td>\n",
              "      <td>Y</td>\n",
              "      <td>94162.0</td>\n",
              "      <td>2015</td>\n",
              "      <td>SAN FRANCISCO, CALIFORNIA</td>\n",
              "      <td>-122.419415</td>\n",
              "      <td>37.774929</td>\n",
              "    </tr>\n",
              "    <tr>\n",
              "      <th>1048573</th>\n",
              "      <td>CERTIFIED</td>\n",
              "      <td>THE HACKETT GROUP, INC.</td>\n",
              "      <td>COMPUTER AND INFORMATION SYSTEMS MANAGERS</td>\n",
              "      <td>MANAGER</td>\n",
              "      <td>Y</td>\n",
              "      <td>120619.0</td>\n",
              "      <td>2015</td>\n",
              "      <td>CHICAGO, ILLINOIS</td>\n",
              "      <td>-87.629798</td>\n",
              "      <td>41.878114</td>\n",
              "    </tr>\n",
              "    <tr>\n",
              "      <th>1048574</th>\n",
              "      <td>CERTIFIED</td>\n",
              "      <td>IBM CORPORATION</td>\n",
              "      <td>COMPUTER AND INFORMATION SYSTEMS MANAGERS</td>\n",
              "      <td>CLIENT SERVICES EXECUTIVE</td>\n",
              "      <td>Y</td>\n",
              "      <td>109512.0</td>\n",
              "      <td>2015</td>\n",
              "      <td>CARY, NORTH CAROLINA</td>\n",
              "      <td>-78.781117</td>\n",
              "      <td>35.791540</td>\n",
              "    </tr>\n",
              "  </tbody>\n",
              "</table>\n",
              "</div>"
            ],
            "text/plain": [
              "        CASE_STATUS                     EMPLOYER_NAME  ...         lon        lat\n",
              "1048570   CERTIFIED  LARSEN & TOUBRO INFOTECH LIMITED  ...  -95.369803  29.760427\n",
              "1048571   CERTIFIED        ALLSCRIPTS HEALTHCARE, LLC  ...  -79.995886  40.440625\n",
              "1048572   CERTIFIED         HEALTHLINE NETWORKS, INC.  ... -122.419415  37.774929\n",
              "1048573   CERTIFIED           THE HACKETT GROUP, INC.  ...  -87.629798  41.878114\n",
              "1048574   CERTIFIED                   IBM CORPORATION  ...  -78.781117  35.791540\n",
              "\n",
              "[5 rows x 10 columns]"
            ]
          },
          "metadata": {
            "tags": []
          },
          "execution_count": 7
        }
      ]
    },
    {
      "cell_type": "code",
      "metadata": {
        "colab": {
          "base_uri": "https://localhost:8080/"
        },
        "id": "0_SaEY48s-bh",
        "outputId": "0f10faa6-3ac0-4a7f-ba90-ea881d4cf807"
      },
      "source": [
        "#find the sum of all null values  present \n",
        "initial_data.isna().sum()"
      ],
      "execution_count": 8,
      "outputs": [
        {
          "output_type": "execute_result",
          "data": {
            "text/plain": [
              "CASE_STATUS               0\n",
              "EMPLOYER_NAME            19\n",
              "SOC_NAME                 11\n",
              "JOB_TITLE                 8\n",
              "FULL_TIME_POSITION        1\n",
              "PREVAILING_WAGE           4\n",
              "YEAR                      0\n",
              "WORKSITE                  0\n",
              "lon                   29568\n",
              "lat                   29568\n",
              "dtype: int64"
            ]
          },
          "metadata": {
            "tags": []
          },
          "execution_count": 8
        }
      ]
    },
    {
      "cell_type": "code",
      "metadata": {
        "id": "bLtYdOc9j9jq"
      },
      "source": [
        "# Drop the  null and missing values\n",
        "initial_data =initial_data.dropna()"
      ],
      "execution_count": 9,
      "outputs": []
    },
    {
      "cell_type": "code",
      "metadata": {
        "colab": {
          "base_uri": "https://localhost:8080/"
        },
        "id": "7e_SUnnht9Yr",
        "outputId": "831376d1-8b6b-4b44-d9e0-a653e0cb5761"
      },
      "source": [
        "initial_data.isna().sum()"
      ],
      "execution_count": 10,
      "outputs": [
        {
          "output_type": "execute_result",
          "data": {
            "text/plain": [
              "CASE_STATUS           0\n",
              "EMPLOYER_NAME         0\n",
              "SOC_NAME              0\n",
              "JOB_TITLE             0\n",
              "FULL_TIME_POSITION    0\n",
              "PREVAILING_WAGE       0\n",
              "YEAR                  0\n",
              "WORKSITE              0\n",
              "lon                   0\n",
              "lat                   0\n",
              "dtype: int64"
            ]
          },
          "metadata": {
            "tags": []
          },
          "execution_count": 10
        }
      ]
    },
    {
      "cell_type": "code",
      "metadata": {
        "colab": {
          "base_uri": "https://localhost:8080/"
        },
        "id": "u19bGlZeVRFA",
        "outputId": "4a3d7ead-41c6-401e-a975-fc5559321ab6"
      },
      "source": [
        "print(\"\\nNumber of col/row :\")\n",
        "print(\"initial_data : \", initial_data.shape)"
      ],
      "execution_count": 11,
      "outputs": [
        {
          "output_type": "stream",
          "text": [
            "\n",
            "Number of col/row :\n",
            "initial_data :  (1018976, 10)\n"
          ],
          "name": "stdout"
        }
      ]
    },
    {
      "cell_type": "code",
      "metadata": {
        "colab": {
          "base_uri": "https://localhost:8080/",
          "height": 272
        },
        "id": "KpeBlVymg533",
        "outputId": "4a17824a-e447-4aa4-abe5-a78c3b378614"
      },
      "source": [
        "initial_data.head()"
      ],
      "execution_count": 12,
      "outputs": [
        {
          "output_type": "execute_result",
          "data": {
            "text/html": [
              "<div>\n",
              "<style scoped>\n",
              "    .dataframe tbody tr th:only-of-type {\n",
              "        vertical-align: middle;\n",
              "    }\n",
              "\n",
              "    .dataframe tbody tr th {\n",
              "        vertical-align: top;\n",
              "    }\n",
              "\n",
              "    .dataframe thead th {\n",
              "        text-align: right;\n",
              "    }\n",
              "</style>\n",
              "<table border=\"1\" class=\"dataframe\">\n",
              "  <thead>\n",
              "    <tr style=\"text-align: right;\">\n",
              "      <th></th>\n",
              "      <th>CASE_STATUS</th>\n",
              "      <th>EMPLOYER_NAME</th>\n",
              "      <th>SOC_NAME</th>\n",
              "      <th>JOB_TITLE</th>\n",
              "      <th>FULL_TIME_POSITION</th>\n",
              "      <th>PREVAILING_WAGE</th>\n",
              "      <th>YEAR</th>\n",
              "      <th>WORKSITE</th>\n",
              "      <th>lon</th>\n",
              "      <th>lat</th>\n",
              "    </tr>\n",
              "  </thead>\n",
              "  <tbody>\n",
              "    <tr>\n",
              "      <th>0</th>\n",
              "      <td>CERTIFIED-WITHDRAWN</td>\n",
              "      <td>UNIVERSITY OF MICHIGAN</td>\n",
              "      <td>BIOCHEMISTS AND BIOPHYSICISTS</td>\n",
              "      <td>POSTDOCTORAL RESEARCH FELLOW</td>\n",
              "      <td>N</td>\n",
              "      <td>36067.0</td>\n",
              "      <td>2016</td>\n",
              "      <td>ANN ARBOR, MICHIGAN</td>\n",
              "      <td>-83.743038</td>\n",
              "      <td>42.280826</td>\n",
              "    </tr>\n",
              "    <tr>\n",
              "      <th>1</th>\n",
              "      <td>CERTIFIED-WITHDRAWN</td>\n",
              "      <td>GOODMAN NETWORKS, INC.</td>\n",
              "      <td>CHIEF EXECUTIVES</td>\n",
              "      <td>CHIEF OPERATING OFFICER</td>\n",
              "      <td>Y</td>\n",
              "      <td>242674.0</td>\n",
              "      <td>2016</td>\n",
              "      <td>PLANO, TEXAS</td>\n",
              "      <td>-96.698886</td>\n",
              "      <td>33.019843</td>\n",
              "    </tr>\n",
              "    <tr>\n",
              "      <th>2</th>\n",
              "      <td>CERTIFIED-WITHDRAWN</td>\n",
              "      <td>PORTS AMERICA GROUP, INC.</td>\n",
              "      <td>CHIEF EXECUTIVES</td>\n",
              "      <td>CHIEF PROCESS OFFICER</td>\n",
              "      <td>Y</td>\n",
              "      <td>193066.0</td>\n",
              "      <td>2016</td>\n",
              "      <td>JERSEY CITY, NEW JERSEY</td>\n",
              "      <td>-74.077642</td>\n",
              "      <td>40.728158</td>\n",
              "    </tr>\n",
              "    <tr>\n",
              "      <th>3</th>\n",
              "      <td>CERTIFIED-WITHDRAWN</td>\n",
              "      <td>GATES CORPORATION, A WHOLLY-OWNED SUBSIDIARY O...</td>\n",
              "      <td>CHIEF EXECUTIVES</td>\n",
              "      <td>REGIONAL PRESIDEN, AMERICAS</td>\n",
              "      <td>Y</td>\n",
              "      <td>220314.0</td>\n",
              "      <td>2016</td>\n",
              "      <td>DENVER, COLORADO</td>\n",
              "      <td>-104.990251</td>\n",
              "      <td>39.739236</td>\n",
              "    </tr>\n",
              "    <tr>\n",
              "      <th>4</th>\n",
              "      <td>WITHDRAWN</td>\n",
              "      <td>PEABODY INVESTMENTS CORP.</td>\n",
              "      <td>CHIEF EXECUTIVES</td>\n",
              "      <td>PRESIDENT MONGOLIA AND INDIA</td>\n",
              "      <td>Y</td>\n",
              "      <td>157518.4</td>\n",
              "      <td>2016</td>\n",
              "      <td>ST. LOUIS, MISSOURI</td>\n",
              "      <td>-90.199404</td>\n",
              "      <td>38.627003</td>\n",
              "    </tr>\n",
              "  </tbody>\n",
              "</table>\n",
              "</div>"
            ],
            "text/plain": [
              "           CASE_STATUS  ...        lat\n",
              "0  CERTIFIED-WITHDRAWN  ...  42.280826\n",
              "1  CERTIFIED-WITHDRAWN  ...  33.019843\n",
              "2  CERTIFIED-WITHDRAWN  ...  40.728158\n",
              "3  CERTIFIED-WITHDRAWN  ...  39.739236\n",
              "4            WITHDRAWN  ...  38.627003\n",
              "\n",
              "[5 rows x 10 columns]"
            ]
          },
          "metadata": {
            "tags": []
          },
          "execution_count": 12
        }
      ]
    },
    {
      "cell_type": "markdown",
      "metadata": {
        "id": "GFibFFWhw7sp"
      },
      "source": [
        "###  **CASE  STATUS** "
      ]
    },
    {
      "cell_type": "code",
      "metadata": {
        "colab": {
          "base_uri": "https://localhost:8080/"
        },
        "id": "oJvPK4SFBE4d",
        "outputId": "d9b7df96-bf4d-48ce-82cd-38e2e8717680"
      },
      "source": [
        "# for countin  values for individual labels in CASE STATUS\n",
        "print(initial_data['CASE_STATUS'].value_counts())"
      ],
      "execution_count": 13,
      "outputs": [
        {
          "output_type": "stream",
          "text": [
            "CERTIFIED              889323\n",
            "CERTIFIED-WITHDRAWN     81138\n",
            "WITHDRAWN               34019\n",
            "DENIED                  14496\n",
            "Name: CASE_STATUS, dtype: int64\n"
          ],
          "name": "stdout"
        }
      ]
    },
    {
      "cell_type": "code",
      "metadata": {
        "colab": {
          "base_uri": "https://localhost:8080/",
          "height": 529
        },
        "id": "J2LQTY2tptRh",
        "outputId": "b08913e1-c83e-43a4-aeba-936b1d626004"
      },
      "source": [
        "# Plot bar graph for CASE STATUS vs NUMBER OF PETITIONS\n",
        "fig,ax = plt.subplots(figsize=(8,6))\n",
        "ax.tick_params(labelsize='medium', width=3)\n",
        "initial_data.CASE_STATUS.value_counts().plot(kind='bar') \n",
        "plt.title(\"CASE STATUS vs NUMBER OF PETITIONS \")\n",
        "plt.xlabel('CASE STATUS')  \n",
        "plt.ylabel('Number of Petetions')"
      ],
      "execution_count": 14,
      "outputs": [
        {
          "output_type": "execute_result",
          "data": {
            "text/plain": [
              "Text(0, 0.5, 'Number of Petetions')"
            ]
          },
          "metadata": {
            "tags": []
          },
          "execution_count": 14
        },
        {
          "output_type": "display_data",
          "data": {
            "image/png": "[encoded data removed]",
            "text/plain": [
              "<Figure size 576x432 with 1 Axes>"
            ]
          },
          "metadata": {
            "tags": [],
            "needs_background": "light"
          }
        }
      ]
    },
    {
      "cell_type": "code",
      "metadata": {
        "id": "5h1pATlrCMXt"
      },
      "source": [
        "# Dropped the  rows with values of CERTIFIED WITHDRWAWN, WITHDRAWN.   \n",
        "initial_data = initial_data.drop(initial_data[initial_data.CASE_STATUS == 'WITHDRAWN'].index)\n",
        "initial_data = initial_data.drop(initial_data[initial_data.CASE_STATUS == 'CERTIFIED-WITHDRAWN'].index)"
      ],
      "execution_count": 15,
      "outputs": []
    },
    {
      "cell_type": "code",
      "metadata": {
        "colab": {
          "base_uri": "https://localhost:8080/"
        },
        "id": "Wh6dMGWIC6Yu",
        "outputId": "666c6317-1c85-45ad-da43-ee6576d69463"
      },
      "source": [
        "# Counting the  values for individual labels\n",
        "print(initial_data['CASE_STATUS'].value_counts())"
      ],
      "execution_count": 16,
      "outputs": [
        {
          "output_type": "stream",
          "text": [
            "CERTIFIED    889323\n",
            "DENIED        14496\n",
            "Name: CASE_STATUS, dtype: int64\n"
          ],
          "name": "stdout"
        }
      ]
    },
    {
      "cell_type": "code",
      "metadata": {
        "colab": {
          "base_uri": "https://localhost:8080/"
        },
        "id": "9KhD2GXYpYQN",
        "outputId": "9f4e09fa-a384-4e44-d555-f2811395c1c2"
      },
      "source": [
        "print(\"\\nNumber of col/row :\")\n",
        "print(\"initial_data : \", initial_data.shape)"
      ],
      "execution_count": 17,
      "outputs": [
        {
          "output_type": "stream",
          "text": [
            "\n",
            "Number of col/row :\n",
            "initial_data :  (903819, 10)\n"
          ],
          "name": "stdout"
        }
      ]
    },
    {
      "cell_type": "code",
      "metadata": {
        "colab": {
          "base_uri": "https://localhost:8080/",
          "height": 202
        },
        "id": "FVvRvLkFYA1Q",
        "outputId": "c504fc3a-7c11-4cee-f98b-e7699d1c6844"
      },
      "source": [
        "initial_data.head()"
      ],
      "execution_count": 18,
      "outputs": [
        {
          "output_type": "execute_result",
          "data": {
            "text/html": [
              "<div>\n",
              "<style scoped>\n",
              "    .dataframe tbody tr th:only-of-type {\n",
              "        vertical-align: middle;\n",
              "    }\n",
              "\n",
              "    .dataframe tbody tr th {\n",
              "        vertical-align: top;\n",
              "    }\n",
              "\n",
              "    .dataframe thead th {\n",
              "        text-align: right;\n",
              "    }\n",
              "</style>\n",
              "<table border=\"1\" class=\"dataframe\">\n",
              "  <thead>\n",
              "    <tr style=\"text-align: right;\">\n",
              "      <th></th>\n",
              "      <th>CASE_STATUS</th>\n",
              "      <th>EMPLOYER_NAME</th>\n",
              "      <th>SOC_NAME</th>\n",
              "      <th>JOB_TITLE</th>\n",
              "      <th>FULL_TIME_POSITION</th>\n",
              "      <th>PREVAILING_WAGE</th>\n",
              "      <th>YEAR</th>\n",
              "      <th>WORKSITE</th>\n",
              "      <th>lon</th>\n",
              "      <th>lat</th>\n",
              "    </tr>\n",
              "  </thead>\n",
              "  <tbody>\n",
              "    <tr>\n",
              "      <th>18</th>\n",
              "      <td>CERTIFIED</td>\n",
              "      <td>QUICKLOGIX LLC</td>\n",
              "      <td>CHIEF EXECUTIVES</td>\n",
              "      <td>CEO</td>\n",
              "      <td>Y</td>\n",
              "      <td>187200.0</td>\n",
              "      <td>2016</td>\n",
              "      <td>SANTA CLARA, CALIFORNIA</td>\n",
              "      <td>-121.955236</td>\n",
              "      <td>37.354108</td>\n",
              "    </tr>\n",
              "    <tr>\n",
              "      <th>19</th>\n",
              "      <td>CERTIFIED</td>\n",
              "      <td>MCCHRYSTAL GROUP, LLC</td>\n",
              "      <td>CHIEF EXECUTIVES</td>\n",
              "      <td>PRESIDENT, NORTHEAST REGION</td>\n",
              "      <td>Y</td>\n",
              "      <td>241842.0</td>\n",
              "      <td>2016</td>\n",
              "      <td>ALEXANDRIA, VIRGINIA</td>\n",
              "      <td>-77.046921</td>\n",
              "      <td>38.804835</td>\n",
              "    </tr>\n",
              "    <tr>\n",
              "      <th>22</th>\n",
              "      <td>CERTIFIED</td>\n",
              "      <td>LOMICS, LLC</td>\n",
              "      <td>CHIEF EXECUTIVES</td>\n",
              "      <td>CEO</td>\n",
              "      <td>Y</td>\n",
              "      <td>99986.0</td>\n",
              "      <td>2016</td>\n",
              "      <td>SAN DIEGO, CALIFORNIA</td>\n",
              "      <td>-117.161084</td>\n",
              "      <td>32.715738</td>\n",
              "    </tr>\n",
              "    <tr>\n",
              "      <th>23</th>\n",
              "      <td>CERTIFIED</td>\n",
              "      <td>UC UNIVERSITY HIGH SCHOOL EDUCATION INC.</td>\n",
              "      <td>CHIEF EXECUTIVES</td>\n",
              "      <td>CHIEF FINANCIAL OFFICER</td>\n",
              "      <td>Y</td>\n",
              "      <td>99986.0</td>\n",
              "      <td>2016</td>\n",
              "      <td>CHULA VISTA, CALIFORNIA</td>\n",
              "      <td>-117.084196</td>\n",
              "      <td>32.640054</td>\n",
              "    </tr>\n",
              "    <tr>\n",
              "      <th>25</th>\n",
              "      <td>CERTIFIED</td>\n",
              "      <td>QUICKLOGIX, INC.</td>\n",
              "      <td>CHIEF EXECUTIVES</td>\n",
              "      <td>CEO</td>\n",
              "      <td>Y</td>\n",
              "      <td>187200.0</td>\n",
              "      <td>2016</td>\n",
              "      <td>SANTA CLARA, CALIFORNIA</td>\n",
              "      <td>-121.955236</td>\n",
              "      <td>37.354108</td>\n",
              "    </tr>\n",
              "  </tbody>\n",
              "</table>\n",
              "</div>"
            ],
            "text/plain": [
              "   CASE_STATUS                             EMPLOYER_NAME  ...         lon        lat\n",
              "18   CERTIFIED                            QUICKLOGIX LLC  ... -121.955236  37.354108\n",
              "19   CERTIFIED                     MCCHRYSTAL GROUP, LLC  ...  -77.046921  38.804835\n",
              "22   CERTIFIED                               LOMICS, LLC  ... -117.161084  32.715738\n",
              "23   CERTIFIED  UC UNIVERSITY HIGH SCHOOL EDUCATION INC.  ... -117.084196  32.640054\n",
              "25   CERTIFIED                          QUICKLOGIX, INC.  ... -121.955236  37.354108\n",
              "\n",
              "[5 rows x 10 columns]"
            ]
          },
          "metadata": {
            "tags": []
          },
          "execution_count": 18
        }
      ]
    },
    {
      "cell_type": "code",
      "metadata": {
        "id": "htYeR0fF3nIE"
      },
      "source": [
        "#Setting the target class of case status  to 1 and 0 using map.  https://pandas.pydata.org/pandas-docs/stable/reference/api/pandas.Series.map.html\n",
        "setting = {'CERTIFIED':1, 'DENIED':0}\n",
        "initial_data[\"CASE_STATUS\"] = initial_data[\"CASE_STATUS\"].map(setting)"
      ],
      "execution_count": 19,
      "outputs": []
    },
    {
      "cell_type": "code",
      "metadata": {
        "colab": {
          "base_uri": "https://localhost:8080/"
        },
        "id": "wgv9wOGY8F4r",
        "outputId": "64fcbe2d-d6c0-4a3a-d78c-7aa852fd081d"
      },
      "source": [
        "# Counts values for individual labels\n",
        "print(initial_data['CASE_STATUS'].value_counts())"
      ],
      "execution_count": 20,
      "outputs": [
        {
          "output_type": "stream",
          "text": [
            "1    889323\n",
            "0     14496\n",
            "Name: CASE_STATUS, dtype: int64\n"
          ],
          "name": "stdout"
        }
      ]
    },
    {
      "cell_type": "code",
      "metadata": {
        "colab": {
          "base_uri": "https://localhost:8080/",
          "height": 202
        },
        "id": "sWvOKTbB8QSj",
        "outputId": "23bcb33f-40d1-417e-85ca-8dfb576f90d0"
      },
      "source": [
        "initial_data.head()"
      ],
      "execution_count": 21,
      "outputs": [
        {
          "output_type": "execute_result",
          "data": {
            "text/html": [
              "<div>\n",
              "<style scoped>\n",
              "    .dataframe tbody tr th:only-of-type {\n",
              "        vertical-align: middle;\n",
              "    }\n",
              "\n",
              "    .dataframe tbody tr th {\n",
              "        vertical-align: top;\n",
              "    }\n",
              "\n",
              "    .dataframe thead th {\n",
              "        text-align: right;\n",
              "    }\n",
              "</style>\n",
              "<table border=\"1\" class=\"dataframe\">\n",
              "  <thead>\n",
              "    <tr style=\"text-align: right;\">\n",
              "      <th></th>\n",
              "      <th>CASE_STATUS</th>\n",
              "      <th>EMPLOYER_NAME</th>\n",
              "      <th>SOC_NAME</th>\n",
              "      <th>JOB_TITLE</th>\n",
              "      <th>FULL_TIME_POSITION</th>\n",
              "      <th>PREVAILING_WAGE</th>\n",
              "      <th>YEAR</th>\n",
              "      <th>WORKSITE</th>\n",
              "      <th>lon</th>\n",
              "      <th>lat</th>\n",
              "    </tr>\n",
              "  </thead>\n",
              "  <tbody>\n",
              "    <tr>\n",
              "      <th>18</th>\n",
              "      <td>1</td>\n",
              "      <td>QUICKLOGIX LLC</td>\n",
              "      <td>CHIEF EXECUTIVES</td>\n",
              "      <td>CEO</td>\n",
              "      <td>Y</td>\n",
              "      <td>187200.0</td>\n",
              "      <td>2016</td>\n",
              "      <td>SANTA CLARA, CALIFORNIA</td>\n",
              "      <td>-121.955236</td>\n",
              "      <td>37.354108</td>\n",
              "    </tr>\n",
              "    <tr>\n",
              "      <th>19</th>\n",
              "      <td>1</td>\n",
              "      <td>MCCHRYSTAL GROUP, LLC</td>\n",
              "      <td>CHIEF EXECUTIVES</td>\n",
              "      <td>PRESIDENT, NORTHEAST REGION</td>\n",
              "      <td>Y</td>\n",
              "      <td>241842.0</td>\n",
              "      <td>2016</td>\n",
              "      <td>ALEXANDRIA, VIRGINIA</td>\n",
              "      <td>-77.046921</td>\n",
              "      <td>38.804835</td>\n",
              "    </tr>\n",
              "    <tr>\n",
              "      <th>22</th>\n",
              "      <td>1</td>\n",
              "      <td>LOMICS, LLC</td>\n",
              "      <td>CHIEF EXECUTIVES</td>\n",
              "      <td>CEO</td>\n",
              "      <td>Y</td>\n",
              "      <td>99986.0</td>\n",
              "      <td>2016</td>\n",
              "      <td>SAN DIEGO, CALIFORNIA</td>\n",
              "      <td>-117.161084</td>\n",
              "      <td>32.715738</td>\n",
              "    </tr>\n",
              "    <tr>\n",
              "      <th>23</th>\n",
              "      <td>1</td>\n",
              "      <td>UC UNIVERSITY HIGH SCHOOL EDUCATION INC.</td>\n",
              "      <td>CHIEF EXECUTIVES</td>\n",
              "      <td>CHIEF FINANCIAL OFFICER</td>\n",
              "      <td>Y</td>\n",
              "      <td>99986.0</td>\n",
              "      <td>2016</td>\n",
              "      <td>CHULA VISTA, CALIFORNIA</td>\n",
              "      <td>-117.084196</td>\n",
              "      <td>32.640054</td>\n",
              "    </tr>\n",
              "    <tr>\n",
              "      <th>25</th>\n",
              "      <td>1</td>\n",
              "      <td>QUICKLOGIX, INC.</td>\n",
              "      <td>CHIEF EXECUTIVES</td>\n",
              "      <td>CEO</td>\n",
              "      <td>Y</td>\n",
              "      <td>187200.0</td>\n",
              "      <td>2016</td>\n",
              "      <td>SANTA CLARA, CALIFORNIA</td>\n",
              "      <td>-121.955236</td>\n",
              "      <td>37.354108</td>\n",
              "    </tr>\n",
              "  </tbody>\n",
              "</table>\n",
              "</div>"
            ],
            "text/plain": [
              "    CASE_STATUS  ...        lat\n",
              "18            1  ...  37.354108\n",
              "19            1  ...  38.804835\n",
              "22            1  ...  32.715738\n",
              "23            1  ...  32.640054\n",
              "25            1  ...  37.354108\n",
              "\n",
              "[5 rows x 10 columns]"
            ]
          },
          "metadata": {
            "tags": []
          },
          "execution_count": 21
        }
      ]
    },
    {
      "cell_type": "code",
      "metadata": {
        "colab": {
          "base_uri": "https://localhost:8080/",
          "height": 420
        },
        "id": "GJPqwsvnwsK6",
        "outputId": "8ba9a3fd-53ea-4d65-8433-ffd2a26ca7ca"
      },
      "source": [
        "# Plot bar graph for CASE STATUS vs NUMBER OF PETITIONS\n",
        "fig,ax = plt.subplots(figsize=(8,6))\n",
        "ax.tick_params(labelsize='large', width=1)\n",
        "initial_data.CASE_STATUS.value_counts().plot(kind='bar')\n",
        "plt.title(\"CASE STATUS vs NUMBER OF PETITIONS \")\n",
        "plt.xlabel('Case status')  \n",
        "plt.ylabel('Number of Petetions')"
      ],
      "execution_count": 22,
      "outputs": [
        {
          "output_type": "execute_result",
          "data": {
            "text/plain": [
              "Text(0, 0.5, 'Number of Petetions')"
            ]
          },
          "metadata": {
            "tags": []
          },
          "execution_count": 22
        },
        {
          "output_type": "display_data",
          "data": {
            "image/png": "[encoded data removed]",
            "text/plain": [
              "<Figure size 576x432 with 1 Axes>"
            ]
          },
          "metadata": {
            "tags": [],
            "needs_background": "light"
          }
        }
      ]
    },
    {
      "cell_type": "markdown",
      "metadata": {
        "id": "hjkkUJU1xN4f"
      },
      "source": [
        "### **EMPLOYER NAME**"
      ]
    },
    {
      "cell_type": "code",
      "metadata": {
        "colab": {
          "base_uri": "https://localhost:8080/"
        },
        "id": "qd0M_srJnXXW",
        "outputId": "56db5d79-d57a-47b4-ad1e-ea7d84679dfb"
      },
      "source": [
        "print(initial_data['EMPLOYER_NAME'].value_counts())"
      ],
      "execution_count": 23,
      "outputs": [
        {
          "output_type": "stream",
          "text": [
            "INFOSYS LIMITED                                         48560\n",
            "TATA CONSULTANCY SERVICES LIMITED                       22856\n",
            "WIPRO LIMITED                                           16119\n",
            "CAPGEMINI AMERICA INC                                   15937\n",
            "ACCENTURE LLP                                           15757\n",
            "                                                        ...  \n",
            "ISRAELI-AMERICAN COUNCIL                                    1\n",
            "ANDREW LU, CPA                                              1\n",
            "SETANTA MACHINERY, INC.                                     1\n",
            "PERSON AREA RUGS LLC                                        1\n",
            "TRANSUNION RISK AND ALTERNATIVE DATA SOLUTIONS, INC.        1\n",
            "Name: EMPLOYER_NAME, Length: 88763, dtype: int64\n"
          ],
          "name": "stdout"
        }
      ]
    },
    {
      "cell_type": "code",
      "metadata": {
        "id": "vqrwwbweXgqX"
      },
      "source": [
        "# Converting the column values into  Upper case letters \n",
        "initial_data['EMPLOYER_NAME'] = initial_data['EMPLOYER_NAME'].str.upper()"
      ],
      "execution_count": 24,
      "outputs": []
    },
    {
      "cell_type": "code",
      "metadata": {
        "colab": {
          "base_uri": "https://localhost:8080/"
        },
        "id": "jAuE-KbmJz5R",
        "outputId": "9659897c-3d3b-4450-b11f-0638f025f7c5"
      },
      "source": [
        "#Printing the first 50 values\n",
        "initial_data.EMPLOYER_NAME.head(50)"
      ],
      "execution_count": 25,
      "outputs": [
        {
          "output_type": "execute_result",
          "data": {
            "text/plain": [
              "18                              QUICKLOGIX LLC\n",
              "19                       MCCHRYSTAL GROUP, LLC\n",
              "22                                 LOMICS, LLC\n",
              "23    UC UNIVERSITY HIGH SCHOOL EDUCATION INC.\n",
              "25                            QUICKLOGIX, INC.\n",
              "27                                  HELLO INC.\n",
              "28                                  UMBEL CORP\n",
              "29     PERSPECTIVES OF FREEDOM FOUNDATION, INC\n",
              "30                                    GTH INC.\n",
              "31                     THE KRAFT HEINZ COMPANY\n",
              "32                                 REGED, INC.\n",
              "33                      VMS COMMUNICATIONS LLC\n",
              "34     FINLAY EXTRACTS & INGREDIENTS USA, INC.\n",
              "36                               LABEL INSIGHT\n",
              "37                    INN AT THE WICKLIFFE LLC\n",
              "38                  DURHAM SCHOOL SERVICES, LP\n",
              "39                             PARALLELS, INC.\n",
              "40                          CB LANSING 300 LLP\n",
              "41           SOFTTEK INTEGRATION SYSTEMS, INC.\n",
              "42                               SPARITY, INC.\n",
              "43                       ADCONION DIRECT, INC.\n",
              "44                           MAVENCARE US INC.\n",
              "46                           MED ADVANTAGE LLC\n",
              "47                        RANCHO LA PUERTA LLC\n",
              "48                            STRATEGISM, INC.\n",
              "49                        RANCHO LA PUERTA LLC\n",
              "50       SPRING BRANCH COMMUNITY HEALTH CENTER\n",
              "51       SPRING BRANCH COMMUNITY HEALTH CENTER\n",
              "52                    PAXTERRA SOLUTIONS, INC.\n",
              "53                             PARALLELS, INC.\n",
              "56                            STRATEGISM, INC.\n",
              "58                 PRONTO GENERAL AGENCY, LTD.\n",
              "59                      CENTRAL OCEANS USA LLC\n",
              "61                           SENSORHOUND, INC.\n",
              "62                          UNDER ARMOUR, INC.\n",
              "63              MAX PLANCK FLORIDA CORPORATION\n",
              "64              MAX PLANCK FLORIDA CORPORATION\n",
              "65           FISERV AUTOMOTIVE SOLUTIONS, INC.\n",
              "66                             HBN MEDIA, INC.\n",
              "67             ADVENTIST HEALTH SYSTEM SUNBELT\n",
              "68                      CENTRAL OCEANS USA LLC\n",
              "70                 MAP HEALTH MANAGEMENT , LLC\n",
              "71                SANTA ROSA MEMORIAL HOSPITAL\n",
              "72                               BENEFUEL INC.\n",
              "73                       RIVIAN AUTOMOTIVE LLC\n",
              "74                        UNIVERSITY AT ALBANY\n",
              "75                             ARICENT US INC.\n",
              "77                    ALWAYS BELIEVE PLUS, LLC\n",
              "78                             ZEETOGROUP, LLC\n",
              "80                       HARIBOO FOOD 2004 INC\n",
              "Name: EMPLOYER_NAME, dtype: object"
            ]
          },
          "metadata": {
            "tags": []
          },
          "execution_count": 25
        }
      ]
    },
    {
      "cell_type": "code",
      "metadata": {
        "colab": {
          "base_uri": "https://localhost:8080/"
        },
        "id": "OPXXX2IbPyjO",
        "outputId": "8f7717fd-8d50-444a-e88f-e4d2b7b308e5"
      },
      "source": [
        "#made a new column\n",
        "initial_data['EMPLOYER'] = np.nan\n",
        "initial_data.shape"
      ],
      "execution_count": 26,
      "outputs": [
        {
          "output_type": "execute_result",
          "data": {
            "text/plain": [
              "(903819, 11)"
            ]
          },
          "metadata": {
            "tags": []
          },
          "execution_count": 26
        }
      ]
    },
    {
      "cell_type": "code",
      "metadata": {
        "id": "bXuGmMVaMS3q"
      },
      "source": [
        "#grouping similar featues in to common groups\n",
        "initial_data.EMPLOYER[initial_data['EMPLOYER_NAME'].str.contains('LLC','LIMITED')] = 'LIMITED LIABILTY COMPANY'\n",
        "initial_data.EMPLOYER[initial_data['EMPLOYER_NAME'].str.contains('INC','CORP')] = 'CORPORATION'\n",
        "initial_data.EMPLOYER[initial_data['EMPLOYER_NAME'].str.contains('UNIVERSITY','CENTER')] = 'UNIVERSITY AND HEALTH CENTER'\n",
        "initial_data['EMPLOYER']= initial_data.EMPLOYER.replace(np.nan, 'OTHER', regex=True)"
      ],
      "execution_count": 27,
      "outputs": []
    },
    {
      "cell_type": "code",
      "metadata": {
        "colab": {
          "base_uri": "https://localhost:8080/"
        },
        "id": "Ea4LybynTiez",
        "outputId": "1dc2dfc5-73ca-4c79-9ed7-d07092089f16"
      },
      "source": [
        "initial_data.EMPLOYER.unique()"
      ],
      "execution_count": 28,
      "outputs": [
        {
          "output_type": "execute_result",
          "data": {
            "text/plain": [
              "array(['LIMITED LIABILTY COMPANY', 'UNIVERSITY AND HEALTH CENTER',\n",
              "       'CORPORATION', 'OTHER'], dtype=object)"
            ]
          },
          "metadata": {
            "tags": []
          },
          "execution_count": 28
        }
      ]
    },
    {
      "cell_type": "code",
      "metadata": {
        "colab": {
          "base_uri": "https://localhost:8080/"
        },
        "id": "YZSzcwO1XP_U",
        "outputId": "15178683-a803-47d2-e2a3-39271fd872f1"
      },
      "source": [
        "print(initial_data['EMPLOYER'].value_counts())"
      ],
      "execution_count": 29,
      "outputs": [
        {
          "output_type": "stream",
          "text": [
            "CORPORATION                     450275\n",
            "OTHER                           305926\n",
            "LIMITED LIABILTY COMPANY        121323\n",
            "UNIVERSITY AND HEALTH CENTER     26295\n",
            "Name: EMPLOYER, dtype: int64\n"
          ],
          "name": "stdout"
        }
      ]
    },
    {
      "cell_type": "markdown",
      "metadata": {
        "id": "X35ztXZl9o8W"
      },
      "source": [
        "### **FULL TIME POSITION**"
      ]
    },
    {
      "cell_type": "code",
      "metadata": {
        "colab": {
          "base_uri": "https://localhost:8080/"
        },
        "id": "IR9klWBQ9Gg5",
        "outputId": "ca6f650e-c41b-491a-9a97-ab63dc25e58b"
      },
      "source": [
        "initial_data.FULL_TIME_POSITION.unique()"
      ],
      "execution_count": 30,
      "outputs": [
        {
          "output_type": "execute_result",
          "data": {
            "text/plain": [
              "array(['Y', 'N'], dtype=object)"
            ]
          },
          "metadata": {
            "tags": []
          },
          "execution_count": 30
        }
      ]
    },
    {
      "cell_type": "code",
      "metadata": {
        "id": "sIpYBfrP9HwX"
      },
      "source": [
        "# Converting the column values into Uppercase\n",
        "initial_data['FULL_TIME_POSITION'] = initial_data['FULL_TIME_POSITION'].str.upper()"
      ],
      "execution_count": 31,
      "outputs": []
    },
    {
      "cell_type": "code",
      "metadata": {
        "colab": {
          "base_uri": "https://localhost:8080/"
        },
        "id": "z3S_lW1M9Hqh",
        "outputId": "40d8d898-2b0f-425e-efd5-e353490e05b6"
      },
      "source": [
        "print(initial_data['FULL_TIME_POSITION'].value_counts())"
      ],
      "execution_count": 32,
      "outputs": [
        {
          "output_type": "stream",
          "text": [
            "Y    593298\n",
            "N    310521\n",
            "Name: FULL_TIME_POSITION, dtype: int64\n"
          ],
          "name": "stdout"
        }
      ]
    },
    {
      "cell_type": "code",
      "metadata": {
        "colab": {
          "base_uri": "https://localhost:8080/",
          "height": 310
        },
        "id": "JLJnXItrnbet",
        "outputId": "021e7cba-a7b7-4c47-dfd3-1e71d1a0b20b"
      },
      "source": [
        "# Plot bar graph for CASE STATUS vs NUMBER OF PETITIONS\n",
        "initial_data.FULL_TIME_POSITION.value_counts().plot(kind='bar')\n",
        "plt.title(\"FULL TIME POSITION vs NUMBER OF PETITIONS \")\n",
        "plt.xlabel('FULL TIME POSITION')  \n",
        "plt.ylabel('Number of Petetions')"
      ],
      "execution_count": 33,
      "outputs": [
        {
          "output_type": "execute_result",
          "data": {
            "text/plain": [
              "Text(0, 0.5, 'Number of Petetions')"
            ]
          },
          "metadata": {
            "tags": []
          },
          "execution_count": 33
        },
        {
          "output_type": "display_data",
          "data": {
            "image/png": "[encoded data removed]",
            "text/plain": [
              "<Figure size 432x288 with 1 Axes>"
            ]
          },
          "metadata": {
            "tags": [],
            "needs_background": "light"
          }
        }
      ]
    },
    {
      "cell_type": "markdown",
      "metadata": {
        "id": "FApWfFlp3QX7"
      },
      "source": [
        "### **JOB TITLE**"
      ]
    },
    {
      "cell_type": "code",
      "metadata": {
        "colab": {
          "base_uri": "https://localhost:8080/"
        },
        "id": "XlsQETRqbDhx",
        "outputId": "03907015-98d3-4ecf-f527-4bca17231b3b"
      },
      "source": [
        "#Count of values in Job Title\n",
        "print(initial_data['JOB_TITLE'].value_counts())"
      ],
      "execution_count": null,
      "outputs": [
        {
          "output_type": "stream",
          "text": [
            "PROGRAMMER ANALYST                                        81219\n",
            "SOFTWARE ENGINEER                                         41203\n",
            "COMPUTER PROGRAMMER                                       18887\n",
            "SOFTWARE DEVELOPER                                        18831\n",
            "SYSTEMS ANALYST                                           18215\n",
            "                                                          ...  \n",
            "WEBLOGIC & JAVA, J2EE DEVELOPER                               1\n",
            "INFORMATION AND SYSTEM MANAGER                                1\n",
            "DANCE TRAINER/INSTRUCTOR                                      1\n",
            "INDIGENOUS ADVISOR, SOCIAL POLICY AND PRACTICE PROGRAM        1\n",
            "SENIOR STRATEGIC PROJECT ENGINEER                             1\n",
            "Name: JOB_TITLE, Length: 106494, dtype: int64\n"
          ],
          "name": "stdout"
        }
      ]
    },
    {
      "cell_type": "code",
      "metadata": {
        "id": "8s60LWZOYA4x"
      },
      "source": [
        "# Factorizing the column job title as there were many unique values    https://pandas.pydata.org/pandas-docs/stable/reference/api/pandas.factorize.html\n",
        "initial_data['JOB_TITLE'], uniques = initial_data['JOB_TITLE'].factorize()"
      ],
      "execution_count": null,
      "outputs": []
    },
    {
      "cell_type": "code",
      "metadata": {
        "colab": {
          "base_uri": "https://localhost:8080/",
          "height": 202
        },
        "id": "66UJSPhbbW6T",
        "outputId": "22036c88-e6d1-49ea-fdd6-9db8ce21f52c"
      },
      "source": [
        "initial_data.head()"
      ],
      "execution_count": null,
      "outputs": [
        {
          "output_type": "execute_result",
          "data": {
            "text/html": [
              "<div>\n",
              "<style scoped>\n",
              "    .dataframe tbody tr th:only-of-type {\n",
              "        vertical-align: middle;\n",
              "    }\n",
              "\n",
              "    .dataframe tbody tr th {\n",
              "        vertical-align: top;\n",
              "    }\n",
              "\n",
              "    .dataframe thead th {\n",
              "        text-align: right;\n",
              "    }\n",
              "</style>\n",
              "<table border=\"1\" class=\"dataframe\">\n",
              "  <thead>\n",
              "    <tr style=\"text-align: right;\">\n",
              "      <th></th>\n",
              "      <th>CASE_STATUS</th>\n",
              "      <th>EMPLOYER_NAME</th>\n",
              "      <th>SOC_NAME</th>\n",
              "      <th>JOB_TITLE</th>\n",
              "      <th>FULL_TIME_POSITION</th>\n",
              "      <th>PREVAILING_WAGE</th>\n",
              "      <th>YEAR</th>\n",
              "      <th>WORKSITE</th>\n",
              "      <th>lon</th>\n",
              "      <th>lat</th>\n",
              "      <th>EMPLOYER</th>\n",
              "    </tr>\n",
              "  </thead>\n",
              "  <tbody>\n",
              "    <tr>\n",
              "      <th>18</th>\n",
              "      <td>1</td>\n",
              "      <td>QUICKLOGIX LLC</td>\n",
              "      <td>CHIEF EXECUTIVES</td>\n",
              "      <td>0</td>\n",
              "      <td>Y</td>\n",
              "      <td>187200.0</td>\n",
              "      <td>2016</td>\n",
              "      <td>SANTA CLARA, CALIFORNIA</td>\n",
              "      <td>-121.955236</td>\n",
              "      <td>37.354108</td>\n",
              "      <td>LIMITED LIABILTY COMPANY</td>\n",
              "    </tr>\n",
              "    <tr>\n",
              "      <th>19</th>\n",
              "      <td>1</td>\n",
              "      <td>MCCHRYSTAL GROUP, LLC</td>\n",
              "      <td>CHIEF EXECUTIVES</td>\n",
              "      <td>1</td>\n",
              "      <td>Y</td>\n",
              "      <td>241842.0</td>\n",
              "      <td>2016</td>\n",
              "      <td>ALEXANDRIA, VIRGINIA</td>\n",
              "      <td>-77.046921</td>\n",
              "      <td>38.804835</td>\n",
              "      <td>LIMITED LIABILTY COMPANY</td>\n",
              "    </tr>\n",
              "    <tr>\n",
              "      <th>22</th>\n",
              "      <td>1</td>\n",
              "      <td>LOMICS, LLC</td>\n",
              "      <td>CHIEF EXECUTIVES</td>\n",
              "      <td>0</td>\n",
              "      <td>Y</td>\n",
              "      <td>99986.0</td>\n",
              "      <td>2016</td>\n",
              "      <td>SAN DIEGO, CALIFORNIA</td>\n",
              "      <td>-117.161084</td>\n",
              "      <td>32.715738</td>\n",
              "      <td>LIMITED LIABILTY COMPANY</td>\n",
              "    </tr>\n",
              "    <tr>\n",
              "      <th>23</th>\n",
              "      <td>1</td>\n",
              "      <td>UC UNIVERSITY HIGH SCHOOL EDUCATION INC.</td>\n",
              "      <td>CHIEF EXECUTIVES</td>\n",
              "      <td>2</td>\n",
              "      <td>Y</td>\n",
              "      <td>99986.0</td>\n",
              "      <td>2016</td>\n",
              "      <td>CHULA VISTA, CALIFORNIA</td>\n",
              "      <td>-117.084196</td>\n",
              "      <td>32.640054</td>\n",
              "      <td>UNIVERSITY AND HEALTH CENTER</td>\n",
              "    </tr>\n",
              "    <tr>\n",
              "      <th>25</th>\n",
              "      <td>1</td>\n",
              "      <td>QUICKLOGIX, INC.</td>\n",
              "      <td>CHIEF EXECUTIVES</td>\n",
              "      <td>0</td>\n",
              "      <td>Y</td>\n",
              "      <td>187200.0</td>\n",
              "      <td>2016</td>\n",
              "      <td>SANTA CLARA, CALIFORNIA</td>\n",
              "      <td>-121.955236</td>\n",
              "      <td>37.354108</td>\n",
              "      <td>CORPORATION</td>\n",
              "    </tr>\n",
              "  </tbody>\n",
              "</table>\n",
              "</div>"
            ],
            "text/plain": [
              "    CASE_STATUS  ...                      EMPLOYER\n",
              "18            1  ...      LIMITED LIABILTY COMPANY\n",
              "19            1  ...      LIMITED LIABILTY COMPANY\n",
              "22            1  ...      LIMITED LIABILTY COMPANY\n",
              "23            1  ...  UNIVERSITY AND HEALTH CENTER\n",
              "25            1  ...                   CORPORATION\n",
              "\n",
              "[5 rows x 11 columns]"
            ]
          },
          "metadata": {
            "tags": []
          },
          "execution_count": 35
        }
      ]
    },
    {
      "cell_type": "markdown",
      "metadata": {
        "id": "n43CkEzL_t4c"
      },
      "source": [
        "### **SOC_NAME**"
      ]
    },
    {
      "cell_type": "code",
      "metadata": {
        "colab": {
          "base_uri": "https://localhost:8080/"
        },
        "id": "Mfx2ov-D_tcF",
        "outputId": "9ebd1a96-6826-4146-cc27-ba084373dee1"
      },
      "source": [
        "initial_data['SOC_NAME'].value_counts().head(100)"
      ],
      "execution_count": null,
      "outputs": [
        {
          "output_type": "execute_result",
          "data": {
            "text/plain": [
              "SOFTWARE DEVELOPERS, APPLICATIONS           159934\n",
              "COMPUTER SYSTEMS ANALYSTS                   157824\n",
              "COMPUTER PROGRAMMERS                        129020\n",
              "COMPUTER OCCUPATIONS, ALL OTHER              80865\n",
              "SOFTWARE DEVELOPERS, SYSTEMS SOFTWARE        28606\n",
              "                                             ...  \n",
              "ENVIRONMENTAL ENGINEERS                        626\n",
              "COMPUTER SCIENCE TEACHERS, POSTSECONDARY       625\n",
              "MICROBIOLOGISTS                                564\n",
              "MATHEMATICIANS                                 558\n",
              "ART DIRECTORS                                  547\n",
              "Name: SOC_NAME, Length: 100, dtype: int64"
            ]
          },
          "metadata": {
            "tags": []
          },
          "execution_count": 36
        }
      ]
    },
    {
      "cell_type": "code",
      "metadata": {
        "id": "cazYYxr9QRHa"
      },
      "source": [
        "# Convert columns values in lowercase\n",
        "initial_data['SOC_NAME'] = initial_data['SOC_NAME'].str.lower()"
      ],
      "execution_count": null,
      "outputs": []
    },
    {
      "cell_type": "code",
      "metadata": {
        "colab": {
          "base_uri": "https://localhost:8080/"
        },
        "id": "QB3WQce3Q6mf",
        "outputId": "be78a48d-7755-43b2-d77c-ff82b360c178"
      },
      "source": [
        "initial_data['SOC_NAME'].value_counts().head(100)"
      ],
      "execution_count": null,
      "outputs": [
        {
          "output_type": "execute_result",
          "data": {
            "text/plain": [
              "software developers, applications           159934\n",
              "computer systems analysts                   157824\n",
              "computer programmers                        129020\n",
              "computer occupations, all other              80865\n",
              "software developers, systems software        28606\n",
              "                                             ...  \n",
              "environmental engineers                        626\n",
              "computer science teachers, postsecondary       625\n",
              "microbiologists                                564\n",
              "mathematicians                                 558\n",
              "art directors                                  547\n",
              "Name: SOC_NAME, Length: 100, dtype: int64"
            ]
          },
          "metadata": {
            "tags": []
          },
          "execution_count": 38
        }
      ]
    },
    {
      "cell_type": "code",
      "metadata": {
        "id": "D26PRDlpOoND"
      },
      "source": [
        "# Adding new column dividing the values into different classes according to the top 35 SOC names\n",
        "initial_data['OCCUPATION_NAME'] = np.nan\n",
        "\n",
        "initial_data.OCCUPATION_NAME[initial_data['SOC_NAME'].str.contains('engineers','architect')] = 'Engineering'\n",
        "initial_data.OCCUPATION_NAME[initial_data['SOC_NAME'].str.contains('information','technician')] = 'Engineering'\n",
        "\n",
        "initial_data.OCCUPATION_NAME[initial_data['SOC_NAME'].str.contains('chemists','physicist')] = 'Sciences'\n",
        "initial_data.OCCUPATION_NAME[initial_data['SOC_NAME'].str.contains('biochemists','biophysicists')] = 'Sciences'\n",
        "initial_data.OCCUPATION_NAME[initial_data['SOC_NAME'].str.contains('biology','scientists')] = 'Sciences'\n",
        "initial_data.OCCUPATION_NAME[initial_data['SOC_NAME'].str.contains('research')] = 'Sciences'\n",
        "\n",
        "initial_data.OCCUPATION_NAME[initial_data['SOC_NAME'].str.contains('computer','database')] = 'Software'\n",
        "initial_data.OCCUPATION_NAME[initial_data['SOC_NAME'].str.contains('software','developers')] = 'Software'\n",
        "\n",
        "initial_data.OCCUPATION_NAME[initial_data['SOC_NAME'].str.contains('math','statistic')] = 'Mathematics'\n",
        "initial_data.OCCUPATION_NAME[initial_data['SOC_NAME'].str.contains('statisticians','logisticians')] = 'Mathematics'\n",
        "\n",
        "initial_data.OCCUPATION_NAME[initial_data['SOC_NAME'].str.contains('principal','linguist')] = 'Education'\n",
        "initial_data.OCCUPATION_NAME[initial_data['SOC_NAME'].str.contains('professor','Teach')] = 'Education'\n",
        "\n",
        "initial_data.OCCUPATION_NAME[initial_data['SOC_NAME'].str.contains('medical','doctor')] = 'Medical'\n",
        "initial_data.OCCUPATION_NAME[initial_data['SOC_NAME'].str.contains('physician','dentist')] = 'Medical'\n",
        "initial_data.OCCUPATION_NAME[initial_data['SOC_NAME'].str.contains('health','Physical Therapists')] = 'Medical'\n",
        "initial_data.OCCUPATION_NAME[initial_data['SOC_NAME'].str.contains('surgeon','nurse')] = 'Medical'\n",
        "\n",
        "initial_data.OCCUPATION_NAME[initial_data['SOC_NAME'].str.contains('biological','clinical research')] = 'Sciences'\n",
        "\n",
        "initial_data.OCCUPATION_NAME[initial_data['SOC_NAME'].str.contains('public relation','managers')] = 'Management'\n",
        "initial_data.OCCUPATION_NAME[initial_data['SOC_NAME'].str.contains('management','operation')] = 'Management'\n",
        "initial_data.OCCUPATION_NAME[initial_data['SOC_NAME'].str.contains('chief','plan')] = 'Management'\n",
        "\n",
        "initial_data.OCCUPATION_NAME[initial_data['SOC_NAME'].str.contains('executive')] = 'Marketing'\n",
        "initial_data.OCCUPATION_NAME[initial_data['SOC_NAME'].str.contains('advertis','marketing')] = 'Marketing'\n",
        "\n",
        "initial_data.OCCUPATION_NAME[initial_data['SOC_NAME'].str.contains('promotion','market research')] = 'Occupation'\n",
        "initial_data.OCCUPATION_NAME[initial_data['SOC_NAME'].str.contains('business','business analyst')] = 'Bussiness '\n",
        "initial_data.OCCUPATION_NAME[initial_data['SOC_NAME'].str.contains('business systems analyst')] = 'Bussiness'\n",
        "\n",
        "initial_data.OCCUPATION_NAME[initial_data['SOC_NAME'].str.contains('accountants','finance')] = 'Finance'\n",
        "initial_data.OCCUPATION_NAME[initial_data['SOC_NAME'].str.contains('financial')] = 'Finance'\n",
        "\n",
        "initial_data['OCCUPATION_NAME']= initial_data.OCCUPATION_NAME.replace(np.nan, 'Others', regex=True)"
      ],
      "execution_count": null,
      "outputs": []
    },
    {
      "cell_type": "code",
      "metadata": {
        "colab": {
          "base_uri": "https://localhost:8080/"
        },
        "id": "Q4DNjYjQngOQ",
        "outputId": "cc68326c-fe3a-418b-83fe-aad5665fab4e"
      },
      "source": [
        "initial_data.OCCUPATION_NAME.value_counts()"
      ],
      "execution_count": null,
      "outputs": [
        {
          "output_type": "execute_result",
          "data": {
            "text/plain": [
              "Software       626376\n",
              "Others         104543\n",
              "Engineering     44908\n",
              "Finance         35972\n",
              "Sciences        35684\n",
              "Management      24088\n",
              "Medical         20307\n",
              "Mathematics      7213\n",
              "Bussiness        3415\n",
              "Marketing         804\n",
              "Occupation        509\n",
              "Name: OCCUPATION_NAME, dtype: int64"
            ]
          },
          "metadata": {
            "tags": []
          },
          "execution_count": 40
        }
      ]
    },
    {
      "cell_type": "code",
      "metadata": {
        "colab": {
          "base_uri": "https://localhost:8080/",
          "height": 421
        },
        "id": "xXKxz7lUzA_B",
        "outputId": "d6474fce-b4f3-4616-acdd-dfa15e535512"
      },
      "source": [
        "#Plotting \n",
        "fig,ax = plt.subplots(figsize=(8,6))\n",
        "ax.tick_params(labelsize='medium', width=3)\n",
        "initial_data.OCCUPATION_NAME.value_counts().plot.barh(x='PETETIONS', y='OCCUPATION_NAME')\n",
        "plt.title(\"H1B PETETIONS vs OCCUPATION\")\n",
        "plt.ylabel('Occupation')  \n",
        "plt.xlabel('Number of Petetions')"
      ],
      "execution_count": null,
      "outputs": [
        {
          "output_type": "execute_result",
          "data": {
            "text/plain": [
              "Text(0.5, 0, 'Number of Petetions')"
            ]
          },
          "metadata": {
            "tags": []
          },
          "execution_count": 41
        },
        {
          "output_type": "display_data",
          "data": {
            "image/png": "[encoded data removed]",
            "text/plain": [
              "<Figure size 576x432 with 1 Axes>"
            ]
          },
          "metadata": {
            "tags": [],
            "needs_background": "light"
          }
        }
      ]
    },
    {
      "cell_type": "markdown",
      "metadata": {
        "id": "2PWFzacK86mo"
      },
      "source": [
        "### **FULL_TIME_POSITION**"
      ]
    },
    {
      "cell_type": "code",
      "metadata": {
        "colab": {
          "base_uri": "https://localhost:8080/"
        },
        "id": "bijPOnDe84mq",
        "outputId": "656fd239-7fcf-45ff-e8a6-fbf5ba78ccd4"
      },
      "source": [
        " print(initial_data['FULL_TIME_POSITION'].value_counts())"
      ],
      "execution_count": null,
      "outputs": [
        {
          "output_type": "stream",
          "text": [
            "Y    593298\n",
            "N    310521\n",
            "Name: FULL_TIME_POSITION, dtype: int64\n"
          ],
          "name": "stdout"
        }
      ]
    },
    {
      "cell_type": "markdown",
      "metadata": {
        "id": "2fGo7slE94MR"
      },
      "source": [
        "### **YEAR**"
      ]
    },
    {
      "cell_type": "code",
      "metadata": {
        "colab": {
          "base_uri": "https://localhost:8080/"
        },
        "id": "gsOrjh8-9MpC",
        "outputId": "13dc0f48-2bfc-4bf7-a965-8387325d2ebc"
      },
      "source": [
        "initial_data.YEAR.value_counts()"
      ],
      "execution_count": null,
      "outputs": [
        {
          "output_type": "execute_result",
          "data": {
            "text/plain": [
              "2016    562315\n",
              "2015    341504\n",
              "Name: YEAR, dtype: int64"
            ]
          },
          "metadata": {
            "tags": []
          },
          "execution_count": 44
        }
      ]
    },
    {
      "cell_type": "code",
      "metadata": {
        "colab": {
          "base_uri": "https://localhost:8080/"
        },
        "id": "7YCLG_PP93V7",
        "outputId": "791c517a-3dcf-44f3-80eb-4fcd35a65633"
      },
      "source": [
        "initial_data.YEAR.unique()"
      ],
      "execution_count": null,
      "outputs": [
        {
          "output_type": "execute_result",
          "data": {
            "text/plain": [
              "array([2016, 2015])"
            ]
          },
          "metadata": {
            "tags": []
          },
          "execution_count": 45
        }
      ]
    },
    {
      "cell_type": "code",
      "metadata": {
        "colab": {
          "base_uri": "https://localhost:8080/",
          "height": 328
        },
        "id": "61MLb1PkWzN6",
        "outputId": "ed62322e-89e0-493f-8caa-0cb2f8f706e6"
      },
      "source": [
        "# Plot bar graph for CASE STATUS vs NUMBER OF PETITIONS\n",
        "initial_data.YEAR.value_counts().plot(kind='bar')\n",
        "plt.title(\"YEAR vs NUMBER OF PETITIONS \")\n",
        "plt.xlabel('YEAR')  \n",
        "plt.ylabel('Number of Petetions')"
      ],
      "execution_count": null,
      "outputs": [
        {
          "output_type": "execute_result",
          "data": {
            "text/plain": [
              "Text(0, 0.5, 'Number of Petetions')"
            ]
          },
          "metadata": {
            "tags": []
          },
          "execution_count": 46
        },
        {
          "output_type": "display_data",
          "data": {
            "image/png": "[encoded data removed]",
            "text/plain": [
              "<Figure size 432x288 with 1 Axes>"
            ]
          },
          "metadata": {
            "tags": [],
            "needs_background": "light"
          }
        }
      ]
    },
    {
      "cell_type": "markdown",
      "metadata": {
        "id": "er-H7YlsEPpj"
      },
      "source": [
        "### **WORKSITE**"
      ]
    },
    {
      "cell_type": "code",
      "metadata": {
        "colab": {
          "base_uri": "https://localhost:8080/"
        },
        "id": "JVQ2FuxWAZg-",
        "outputId": "0a38723a-2b89-445b-e01e-8a8f00060595"
      },
      "source": [
        "initial_data.WORKSITE.value_counts()"
      ],
      "execution_count": null,
      "outputs": [
        {
          "output_type": "execute_result",
          "data": {
            "text/plain": [
              "NEW YORK, NEW YORK           53844\n",
              "HOUSTON, TEXAS               24263\n",
              "SAN FRANCISCO, CALIFORNIA    21522\n",
              "ATLANTA, GEORGIA             18902\n",
              "CHICAGO, ILLINOIS            17018\n",
              "                             ...  \n",
              "KEW GARDENS, NEW YORK            1\n",
              "PISCATWAY, NEW JERSEY            1\n",
              "MASSAPEQUA, NEW YORK             1\n",
              "SPRING CITY, PENNSYLVANIA        1\n",
              "WILLOUGHBY HILLS, OHIO           1\n",
              "Name: WORKSITE, Length: 2480, dtype: int64"
            ]
          },
          "metadata": {
            "tags": []
          },
          "execution_count": 47
        }
      ]
    },
    {
      "cell_type": "code",
      "metadata": {
        "colab": {
          "base_uri": "https://localhost:8080/"
        },
        "id": "j3WGmUKpAqaG",
        "outputId": "d6a7addb-8062-495f-f061-2591bfcbc51c"
      },
      "source": [
        "initial_data.WORKSITE.unique()"
      ],
      "execution_count": null,
      "outputs": [
        {
          "output_type": "execute_result",
          "data": {
            "text/plain": [
              "array(['SANTA CLARA, CALIFORNIA', 'ALEXANDRIA, VIRGINIA',\n",
              "       'SAN DIEGO, CALIFORNIA', ..., 'PISCATWAY, NEW JERSEY',\n",
              "       'WILLOUGHBY HILLS, OHIO', 'SPRING CITY, PENNSYLVANIA'],\n",
              "      dtype=object)"
            ]
          },
          "metadata": {
            "tags": []
          },
          "execution_count": 48
        }
      ]
    },
    {
      "cell_type": "code",
      "metadata": {
        "colab": {
          "base_uri": "https://localhost:8080/",
          "height": 421
        },
        "id": "0mjIffb59hDr",
        "outputId": "394a6d68-be3d-4dc0-f054-427a78625ed1"
      },
      "source": [
        "# Plot bar graph for CASE STATUS vs NUMBER OF PETITIONS \n",
        "fig,ax = plt.subplots(figsize=(8,6))\n",
        "ax.tick_params(labelsize='medium', width=3) \n",
        "initial_data.WORKSITE.value_counts().head(10).plot.barh(x='PETETIONS', y='OCCUPATION_NAME')\n",
        "plt.title(\"WORKSITE vs NUMBER OF PETITIONS \")\n",
        "plt.xlabel('Worksite')  \n",
        "plt.ylabel('Number of Petetions')"
      ],
      "execution_count": null,
      "outputs": [
        {
          "output_type": "execute_result",
          "data": {
            "text/plain": [
              "Text(0, 0.5, 'Number of Petetions')"
            ]
          },
          "metadata": {
            "tags": []
          },
          "execution_count": 49
        },
        {
          "output_type": "display_data",
          "data": {
            "image/png": "[encoded data removed]",
            "text/plain": [
              "<Figure size 576x432 with 1 Axes>"
            ]
          },
          "metadata": {
            "tags": [],
            "needs_background": "light"
          }
        }
      ]
    },
    {
      "cell_type": "code",
      "metadata": {
        "id": "oQgrV-3MAXyD"
      },
      "source": [
        "#Series.str.split(*args, **kwargs)\n",
        "initial_data.WORKSITE.str.split(',').str[-1]\n",
        "initial_data['WORKSITE'] = initial_data.WORKSITE.str.split(',').str[-1]"
      ],
      "execution_count": null,
      "outputs": []
    },
    {
      "cell_type": "code",
      "metadata": {
        "colab": {
          "base_uri": "https://localhost:8080/",
          "height": 294
        },
        "id": "JkZ1gLaYAAZz",
        "outputId": "b677d478-ad69-4403-9a1f-d170b74bc148"
      },
      "source": [
        "#To find mean min,std,max, and min value \n",
        "initial_data.describe()"
      ],
      "execution_count": null,
      "outputs": [
        {
          "output_type": "execute_result",
          "data": {
            "text/html": [
              "<div>\n",
              "<style scoped>\n",
              "    .dataframe tbody tr th:only-of-type {\n",
              "        vertical-align: middle;\n",
              "    }\n",
              "\n",
              "    .dataframe tbody tr th {\n",
              "        vertical-align: top;\n",
              "    }\n",
              "\n",
              "    .dataframe thead th {\n",
              "        text-align: right;\n",
              "    }\n",
              "</style>\n",
              "<table border=\"1\" class=\"dataframe\">\n",
              "  <thead>\n",
              "    <tr style=\"text-align: right;\">\n",
              "      <th></th>\n",
              "      <th>CASE_STATUS</th>\n",
              "      <th>JOB_TITLE</th>\n",
              "      <th>PREVAILING_WAGE</th>\n",
              "      <th>YEAR</th>\n",
              "      <th>lon</th>\n",
              "      <th>lat</th>\n",
              "    </tr>\n",
              "  </thead>\n",
              "  <tbody>\n",
              "    <tr>\n",
              "      <th>count</th>\n",
              "      <td>903819.000000</td>\n",
              "      <td>903819.000000</td>\n",
              "      <td>9.038190e+05</td>\n",
              "      <td>903819.000000</td>\n",
              "      <td>903819.000000</td>\n",
              "      <td>903819.000000</td>\n",
              "    </tr>\n",
              "    <tr>\n",
              "      <th>mean</th>\n",
              "      <td>0.983961</td>\n",
              "      <td>23475.771362</td>\n",
              "      <td>8.893415e+04</td>\n",
              "      <td>2015.622154</td>\n",
              "      <td>-92.077833</td>\n",
              "      <td>38.174556</td>\n",
              "    </tr>\n",
              "    <tr>\n",
              "      <th>std</th>\n",
              "      <td>0.125624</td>\n",
              "      <td>23451.887802</td>\n",
              "      <td>1.641055e+06</td>\n",
              "      <td>0.484849</td>\n",
              "      <td>19.348491</td>\n",
              "      <td>4.611494</td>\n",
              "    </tr>\n",
              "    <tr>\n",
              "      <th>min</th>\n",
              "      <td>0.000000</td>\n",
              "      <td>0.000000</td>\n",
              "      <td>0.000000e+00</td>\n",
              "      <td>2015.000000</td>\n",
              "      <td>-157.858333</td>\n",
              "      <td>13.437192</td>\n",
              "    </tr>\n",
              "    <tr>\n",
              "      <th>25%</th>\n",
              "      <td>1.000000</td>\n",
              "      <td>4397.000000</td>\n",
              "      <td>5.680500e+04</td>\n",
              "      <td>2015.000000</td>\n",
              "      <td>-111.841250</td>\n",
              "      <td>34.147785</td>\n",
              "    </tr>\n",
              "    <tr>\n",
              "      <th>50%</th>\n",
              "      <td>1.000000</td>\n",
              "      <td>18934.000000</td>\n",
              "      <td>6.662200e+04</td>\n",
              "      <td>2016.000000</td>\n",
              "      <td>-86.158068</td>\n",
              "      <td>39.099727</td>\n",
              "    </tr>\n",
              "    <tr>\n",
              "      <th>75%</th>\n",
              "      <td>1.000000</td>\n",
              "      <td>29562.000000</td>\n",
              "      <td>8.249280e+04</td>\n",
              "      <td>2016.000000</td>\n",
              "      <td>-75.539788</td>\n",
              "      <td>40.885835</td>\n",
              "    </tr>\n",
              "    <tr>\n",
              "      <th>max</th>\n",
              "      <td>1.000000</td>\n",
              "      <td>106493.000000</td>\n",
              "      <td>3.291392e+08</td>\n",
              "      <td>2016.000000</td>\n",
              "      <td>145.729789</td>\n",
              "      <td>64.837778</td>\n",
              "    </tr>\n",
              "  </tbody>\n",
              "</table>\n",
              "</div>"
            ],
            "text/plain": [
              "         CASE_STATUS      JOB_TITLE  ...            lon            lat\n",
              "count  903819.000000  903819.000000  ...  903819.000000  903819.000000\n",
              "mean        0.983961   23475.771362  ...     -92.077833      38.174556\n",
              "std         0.125624   23451.887802  ...      19.348491       4.611494\n",
              "min         0.000000       0.000000  ...    -157.858333      13.437192\n",
              "25%         1.000000    4397.000000  ...    -111.841250      34.147785\n",
              "50%         1.000000   18934.000000  ...     -86.158068      39.099727\n",
              "75%         1.000000   29562.000000  ...     -75.539788      40.885835\n",
              "max         1.000000  106493.000000  ...     145.729789      64.837778\n",
              "\n",
              "[8 rows x 6 columns]"
            ]
          },
          "metadata": {
            "tags": []
          },
          "execution_count": 51
        }
      ]
    },
    {
      "cell_type": "code",
      "metadata": {
        "colab": {
          "base_uri": "https://localhost:8080/",
          "height": 297
        },
        "id": "GR5rbXzlAASI",
        "outputId": "f2c720e9-d123-4ca0-9e4a-e190c5b71735"
      },
      "source": [
        "#To check outliers through boxplot\n",
        "import seaborn as sns\n",
        "sns.boxplot(x=initial_data['PREVAILING_WAGE'])"
      ],
      "execution_count": null,
      "outputs": [
        {
          "output_type": "execute_result",
          "data": {
            "text/plain": [
              "<matplotlib.axes._subplots.AxesSubplot at 0x7f9a77b6bfd0>"
            ]
          },
          "metadata": {
            "tags": []
          },
          "execution_count": 52
        },
        {
          "output_type": "display_data",
          "data": {
            "image/png": "[encoded data removed]",
            "text/plain": [
              "<Figure size 432x288 with 1 Axes>"
            ]
          },
          "metadata": {
            "tags": [],
            "needs_background": "light"
          }
        }
      ]
    },
    {
      "cell_type": "markdown",
      "metadata": {
        "id": "C2V5RJ-Y3hsf"
      },
      "source": [
        "### **PREVAILING_WAGE**"
      ]
    },
    {
      "cell_type": "code",
      "metadata": {
        "colab": {
          "base_uri": "https://localhost:8080/"
        },
        "id": "ILmzs54yv1yF",
        "outputId": "3859fd17-cca8-4046-dac8-0bf7fbdc454d"
      },
      "source": [
        "#setting the wage range between 90 and 10 percentile\n",
        "max_value, min_value = initial_data.PREVAILING_WAGE.quantile([0.90,0.10])\n",
        "min_value , max_value"
      ],
      "execution_count": null,
      "outputs": [
        {
          "output_type": "execute_result",
          "data": {
            "text/plain": [
              "(47944.0, 102898.0)"
            ]
          },
          "metadata": {
            "tags": []
          },
          "execution_count": 53
        }
      ]
    },
    {
      "cell_type": "code",
      "metadata": {
        "id": "Z456U-jRxc7s"
      },
      "source": [
        "#setting the maximum and minimum values\n",
        "initial_data=initial_data[initial_data['PREVAILING_WAGE']>min_value]\n",
        "initial_data=initial_data[initial_data['PREVAILING_WAGE']<max_value]"
      ],
      "execution_count": null,
      "outputs": []
    },
    {
      "cell_type": "code",
      "metadata": {
        "colab": {
          "base_uri": "https://localhost:8080/",
          "height": 297
        },
        "id": "rDc-p92I02KQ",
        "outputId": "816d8d61-3a91-41ad-9c4c-3c86d00e6911"
      },
      "source": [
        "import seaborn as sns\n",
        "sns.boxplot(x=initial_data['PREVAILING_WAGE'])"
      ],
      "execution_count": null,
      "outputs": [
        {
          "output_type": "execute_result",
          "data": {
            "text/plain": [
              "<matplotlib.axes._subplots.AxesSubplot at 0x7f9a77be2518>"
            ]
          },
          "metadata": {
            "tags": []
          },
          "execution_count": 55
        },
        {
          "output_type": "display_data",
          "data": {
            "image/png": "[encoded data removed]",
            "text/plain": [
              "<Figure size 432x288 with 1 Axes>"
            ]
          },
          "metadata": {
            "tags": [],
            "needs_background": "light"
          }
        }
      ]
    },
    {
      "cell_type": "code",
      "metadata": {
        "colab": {
          "base_uri": "https://localhost:8080/",
          "height": 220
        },
        "id": "IqbulW8nKmuU",
        "outputId": "7230c2c9-4893-4166-dbb9-0582958b81bc"
      },
      "source": [
        "print(initial_data.shape)\n",
        "initial_data.head()"
      ],
      "execution_count": null,
      "outputs": [
        {
          "output_type": "stream",
          "text": [
            "(722978, 12)\n"
          ],
          "name": "stdout"
        },
        {
          "output_type": "execute_result",
          "data": {
            "text/html": [
              "<div>\n",
              "<style scoped>\n",
              "    .dataframe tbody tr th:only-of-type {\n",
              "        vertical-align: middle;\n",
              "    }\n",
              "\n",
              "    .dataframe tbody tr th {\n",
              "        vertical-align: top;\n",
              "    }\n",
              "\n",
              "    .dataframe thead th {\n",
              "        text-align: right;\n",
              "    }\n",
              "</style>\n",
              "<table border=\"1\" class=\"dataframe\">\n",
              "  <thead>\n",
              "    <tr style=\"text-align: right;\">\n",
              "      <th></th>\n",
              "      <th>CASE_STATUS</th>\n",
              "      <th>EMPLOYER_NAME</th>\n",
              "      <th>SOC_NAME</th>\n",
              "      <th>JOB_TITLE</th>\n",
              "      <th>FULL_TIME_POSITION</th>\n",
              "      <th>PREVAILING_WAGE</th>\n",
              "      <th>YEAR</th>\n",
              "      <th>WORKSITE</th>\n",
              "      <th>lon</th>\n",
              "      <th>lat</th>\n",
              "      <th>EMPLOYER</th>\n",
              "      <th>OCCUPATION_NAME</th>\n",
              "    </tr>\n",
              "  </thead>\n",
              "  <tbody>\n",
              "    <tr>\n",
              "      <th>22</th>\n",
              "      <td>1</td>\n",
              "      <td>LOMICS, LLC</td>\n",
              "      <td>chief executives</td>\n",
              "      <td>0</td>\n",
              "      <td>Y</td>\n",
              "      <td>99986.00</td>\n",
              "      <td>2016</td>\n",
              "      <td>CALIFORNIA</td>\n",
              "      <td>-117.161084</td>\n",
              "      <td>32.715738</td>\n",
              "      <td>LIMITED LIABILTY COMPANY</td>\n",
              "      <td>Marketing</td>\n",
              "    </tr>\n",
              "    <tr>\n",
              "      <th>23</th>\n",
              "      <td>1</td>\n",
              "      <td>UC UNIVERSITY HIGH SCHOOL EDUCATION INC.</td>\n",
              "      <td>chief executives</td>\n",
              "      <td>2</td>\n",
              "      <td>Y</td>\n",
              "      <td>99986.00</td>\n",
              "      <td>2016</td>\n",
              "      <td>CALIFORNIA</td>\n",
              "      <td>-117.084196</td>\n",
              "      <td>32.640054</td>\n",
              "      <td>UNIVERSITY AND HEALTH CENTER</td>\n",
              "      <td>Marketing</td>\n",
              "    </tr>\n",
              "    <tr>\n",
              "      <th>29</th>\n",
              "      <td>1</td>\n",
              "      <td>PERSPECTIVES OF FREEDOM FOUNDATION, INC</td>\n",
              "      <td>chief executives</td>\n",
              "      <td>5</td>\n",
              "      <td>Y</td>\n",
              "      <td>95295.98</td>\n",
              "      <td>2016</td>\n",
              "      <td>FLORIDA</td>\n",
              "      <td>-80.399775</td>\n",
              "      <td>26.100365</td>\n",
              "      <td>CORPORATION</td>\n",
              "      <td>Marketing</td>\n",
              "    </tr>\n",
              "    <tr>\n",
              "      <th>34</th>\n",
              "      <td>1</td>\n",
              "      <td>FINLAY EXTRACTS &amp; INGREDIENTS USA, INC.</td>\n",
              "      <td>chief executives</td>\n",
              "      <td>9</td>\n",
              "      <td>Y</td>\n",
              "      <td>98550.00</td>\n",
              "      <td>2016</td>\n",
              "      <td>RHODE ISLAND</td>\n",
              "      <td>-71.441810</td>\n",
              "      <td>41.911012</td>\n",
              "      <td>CORPORATION</td>\n",
              "      <td>Marketing</td>\n",
              "    </tr>\n",
              "    <tr>\n",
              "      <th>37</th>\n",
              "      <td>1</td>\n",
              "      <td>INN AT THE WICKLIFFE LLC</td>\n",
              "      <td>chief executives</td>\n",
              "      <td>10</td>\n",
              "      <td>N</td>\n",
              "      <td>52416.00</td>\n",
              "      <td>2016</td>\n",
              "      <td>OHIO</td>\n",
              "      <td>-81.453449</td>\n",
              "      <td>41.605327</td>\n",
              "      <td>LIMITED LIABILTY COMPANY</td>\n",
              "      <td>Marketing</td>\n",
              "    </tr>\n",
              "  </tbody>\n",
              "</table>\n",
              "</div>"
            ],
            "text/plain": [
              "    CASE_STATUS  ... OCCUPATION_NAME\n",
              "22            1  ...       Marketing\n",
              "23            1  ...       Marketing\n",
              "29            1  ...       Marketing\n",
              "34            1  ...       Marketing\n",
              "37            1  ...       Marketing\n",
              "\n",
              "[5 rows x 12 columns]"
            ]
          },
          "metadata": {
            "tags": []
          },
          "execution_count": 56
        }
      ]
    },
    {
      "cell_type": "code",
      "metadata": {
        "id": "MUtNmQ-ae5hW"
      },
      "source": [
        "#Dropping the columns which are not required\n",
        "initial_data = initial_data.drop('EMPLOYER_NAME', axis = 1)\n",
        "initial_data = initial_data.drop('SOC_NAME', axis = 1)\n",
        "initial_data = initial_data.drop('lon', axis = 1)\n",
        "initial_data = initial_data.drop('lat', axis = 1)"
      ],
      "execution_count": null,
      "outputs": []
    },
    {
      "cell_type": "code",
      "metadata": {
        "colab": {
          "base_uri": "https://localhost:8080/",
          "height": 220
        },
        "id": "cKwrFRpZCV2e",
        "outputId": "e69d0ea8-6d1f-4b9d-baa2-27e8be30052c"
      },
      "source": [
        "print(initial_data.shape)\n",
        "initial_data.head()"
      ],
      "execution_count": null,
      "outputs": [
        {
          "output_type": "stream",
          "text": [
            "(722978, 8)\n"
          ],
          "name": "stdout"
        },
        {
          "output_type": "execute_result",
          "data": {
            "text/html": [
              "<div>\n",
              "<style scoped>\n",
              "    .dataframe tbody tr th:only-of-type {\n",
              "        vertical-align: middle;\n",
              "    }\n",
              "\n",
              "    .dataframe tbody tr th {\n",
              "        vertical-align: top;\n",
              "    }\n",
              "\n",
              "    .dataframe thead th {\n",
              "        text-align: right;\n",
              "    }\n",
              "</style>\n",
              "<table border=\"1\" class=\"dataframe\">\n",
              "  <thead>\n",
              "    <tr style=\"text-align: right;\">\n",
              "      <th></th>\n",
              "      <th>CASE_STATUS</th>\n",
              "      <th>JOB_TITLE</th>\n",
              "      <th>FULL_TIME_POSITION</th>\n",
              "      <th>PREVAILING_WAGE</th>\n",
              "      <th>YEAR</th>\n",
              "      <th>WORKSITE</th>\n",
              "      <th>EMPLOYER</th>\n",
              "      <th>OCCUPATION_NAME</th>\n",
              "    </tr>\n",
              "  </thead>\n",
              "  <tbody>\n",
              "    <tr>\n",
              "      <th>22</th>\n",
              "      <td>1</td>\n",
              "      <td>0</td>\n",
              "      <td>Y</td>\n",
              "      <td>99986.00</td>\n",
              "      <td>2016</td>\n",
              "      <td>CALIFORNIA</td>\n",
              "      <td>LIMITED LIABILTY COMPANY</td>\n",
              "      <td>Marketing</td>\n",
              "    </tr>\n",
              "    <tr>\n",
              "      <th>23</th>\n",
              "      <td>1</td>\n",
              "      <td>2</td>\n",
              "      <td>Y</td>\n",
              "      <td>99986.00</td>\n",
              "      <td>2016</td>\n",
              "      <td>CALIFORNIA</td>\n",
              "      <td>UNIVERSITY AND HEALTH CENTER</td>\n",
              "      <td>Marketing</td>\n",
              "    </tr>\n",
              "    <tr>\n",
              "      <th>29</th>\n",
              "      <td>1</td>\n",
              "      <td>5</td>\n",
              "      <td>Y</td>\n",
              "      <td>95295.98</td>\n",
              "      <td>2016</td>\n",
              "      <td>FLORIDA</td>\n",
              "      <td>CORPORATION</td>\n",
              "      <td>Marketing</td>\n",
              "    </tr>\n",
              "    <tr>\n",
              "      <th>34</th>\n",
              "      <td>1</td>\n",
              "      <td>9</td>\n",
              "      <td>Y</td>\n",
              "      <td>98550.00</td>\n",
              "      <td>2016</td>\n",
              "      <td>RHODE ISLAND</td>\n",
              "      <td>CORPORATION</td>\n",
              "      <td>Marketing</td>\n",
              "    </tr>\n",
              "    <tr>\n",
              "      <th>37</th>\n",
              "      <td>1</td>\n",
              "      <td>10</td>\n",
              "      <td>N</td>\n",
              "      <td>52416.00</td>\n",
              "      <td>2016</td>\n",
              "      <td>OHIO</td>\n",
              "      <td>LIMITED LIABILTY COMPANY</td>\n",
              "      <td>Marketing</td>\n",
              "    </tr>\n",
              "  </tbody>\n",
              "</table>\n",
              "</div>"
            ],
            "text/plain": [
              "    CASE_STATUS  JOB_TITLE  ...                      EMPLOYER  OCCUPATION_NAME\n",
              "22            1          0  ...      LIMITED LIABILTY COMPANY        Marketing\n",
              "23            1          2  ...  UNIVERSITY AND HEALTH CENTER        Marketing\n",
              "29            1          5  ...                   CORPORATION        Marketing\n",
              "34            1          9  ...                   CORPORATION        Marketing\n",
              "37            1         10  ...      LIMITED LIABILTY COMPANY        Marketing\n",
              "\n",
              "[5 rows x 8 columns]"
            ]
          },
          "metadata": {
            "tags": []
          },
          "execution_count": 58
        }
      ]
    },
    {
      "cell_type": "code",
      "metadata": {
        "colab": {
          "base_uri": "https://localhost:8080/"
        },
        "id": "-GaVnMf4CwtN",
        "outputId": "6b6d0aef-75b8-42c4-a373-3c1a02019d55"
      },
      "source": [
        "#Checking the date type of columns\n",
        "initial_data.dtypes"
      ],
      "execution_count": null,
      "outputs": [
        {
          "output_type": "execute_result",
          "data": {
            "text/plain": [
              "CASE_STATUS             int64\n",
              "JOB_TITLE               int64\n",
              "FULL_TIME_POSITION     object\n",
              "PREVAILING_WAGE       float64\n",
              "YEAR                    int64\n",
              "WORKSITE               object\n",
              "EMPLOYER               object\n",
              "OCCUPATION_NAME        object\n",
              "dtype: object"
            ]
          },
          "metadata": {
            "tags": []
          },
          "execution_count": 59
        }
      ]
    },
    {
      "cell_type": "markdown",
      "metadata": {
        "id": "xGQBTESbIZBg"
      },
      "source": [
        "### **ONE HOT ENCODING**"
      ]
    },
    {
      "cell_type": "code",
      "metadata": {
        "id": "LknSrmq4ClXm"
      },
      "source": [
        "#Encoding categorical features into Numeric form\n",
        "encode_text_dummy(initial_data,'FULL_TIME_POSITION')\n",
        "encode_text_dummy(initial_data,'YEAR')\n",
        "encode_text_dummy(initial_data,'EMPLOYER')\n",
        "encode_text_dummy(initial_data,'OCCUPATION_NAME')\n",
        "encode_text_dummy(initial_data,'WORKSITE')"
      ],
      "execution_count": null,
      "outputs": []
    },
    {
      "cell_type": "code",
      "metadata": {
        "colab": {
          "base_uri": "https://localhost:8080/",
          "height": 292
        },
        "id": "wz9_g7eVHWTA",
        "outputId": "819a102a-6068-4e7d-f5af-f43ff614cbdc"
      },
      "source": [
        "print(initial_data.shape)\n",
        "initial_data.head()"
      ],
      "execution_count": null,
      "outputs": [
        {
          "output_type": "stream",
          "text": [
            "(722978, 75)\n"
          ],
          "name": "stdout"
        },
        {
          "output_type": "execute_result",
          "data": {
            "text/html": [
              "<div>\n",
              "<style scoped>\n",
              "    .dataframe tbody tr th:only-of-type {\n",
              "        vertical-align: middle;\n",
              "    }\n",
              "\n",
              "    .dataframe tbody tr th {\n",
              "        vertical-align: top;\n",
              "    }\n",
              "\n",
              "    .dataframe thead th {\n",
              "        text-align: right;\n",
              "    }\n",
              "</style>\n",
              "<table border=\"1\" class=\"dataframe\">\n",
              "  <thead>\n",
              "    <tr style=\"text-align: right;\">\n",
              "      <th></th>\n",
              "      <th>CASE_STATUS</th>\n",
              "      <th>JOB_TITLE</th>\n",
              "      <th>PREVAILING_WAGE</th>\n",
              "      <th>FULL_TIME_POSITION-N</th>\n",
              "      <th>FULL_TIME_POSITION-Y</th>\n",
              "      <th>YEAR-2015</th>\n",
              "      <th>YEAR-2016</th>\n",
              "      <th>EMPLOYER-CORPORATION</th>\n",
              "      <th>EMPLOYER-LIMITED LIABILTY COMPANY</th>\n",
              "      <th>EMPLOYER-OTHER</th>\n",
              "      <th>EMPLOYER-UNIVERSITY AND HEALTH CENTER</th>\n",
              "      <th>OCCUPATION_NAME-Bussiness</th>\n",
              "      <th>OCCUPATION_NAME-Engineering</th>\n",
              "      <th>OCCUPATION_NAME-Finance</th>\n",
              "      <th>OCCUPATION_NAME-Management</th>\n",
              "      <th>OCCUPATION_NAME-Marketing</th>\n",
              "      <th>OCCUPATION_NAME-Mathematics</th>\n",
              "      <th>OCCUPATION_NAME-Medical</th>\n",
              "      <th>OCCUPATION_NAME-Occupation</th>\n",
              "      <th>OCCUPATION_NAME-Others</th>\n",
              "      <th>OCCUPATION_NAME-Sciences</th>\n",
              "      <th>OCCUPATION_NAME-Software</th>\n",
              "      <th>WORKSITE- ALABAMA</th>\n",
              "      <th>WORKSITE- ALASKA</th>\n",
              "      <th>WORKSITE- ARIZONA</th>\n",
              "      <th>WORKSITE- ARKANSAS</th>\n",
              "      <th>WORKSITE- CALIFORNIA</th>\n",
              "      <th>WORKSITE- COLORADO</th>\n",
              "      <th>WORKSITE- CONNECTICUT</th>\n",
              "      <th>WORKSITE- DELAWARE</th>\n",
              "      <th>WORKSITE- DISTRICT OF COLUMBIA</th>\n",
              "      <th>WORKSITE- FLORIDA</th>\n",
              "      <th>WORKSITE- GEORGIA</th>\n",
              "      <th>WORKSITE- HAWAII</th>\n",
              "      <th>WORKSITE- IDAHO</th>\n",
              "      <th>WORKSITE- ILLINOIS</th>\n",
              "      <th>WORKSITE- INDIANA</th>\n",
              "      <th>WORKSITE- IOWA</th>\n",
              "      <th>WORKSITE- KANSAS</th>\n",
              "      <th>WORKSITE- KENTUCKY</th>\n",
              "      <th>WORKSITE- LOUISIANA</th>\n",
              "      <th>WORKSITE- MAINE</th>\n",
              "      <th>WORKSITE- MARYLAND</th>\n",
              "      <th>WORKSITE- MASSACHUSETTS</th>\n",
              "      <th>WORKSITE- MICHIGAN</th>\n",
              "      <th>WORKSITE- MINNESOTA</th>\n",
              "      <th>WORKSITE- MISSISSIPPI</th>\n",
              "      <th>WORKSITE- MISSOURI</th>\n",
              "      <th>WORKSITE- MONTANA</th>\n",
              "      <th>WORKSITE- NA</th>\n",
              "      <th>WORKSITE- NEBRASKA</th>\n",
              "      <th>WORKSITE- NEVADA</th>\n",
              "      <th>WORKSITE- NEW HAMPSHIRE</th>\n",
              "      <th>WORKSITE- NEW JERSEY</th>\n",
              "      <th>WORKSITE- NEW MEXICO</th>\n",
              "      <th>WORKSITE- NEW YORK</th>\n",
              "      <th>WORKSITE- NORTH CAROLINA</th>\n",
              "      <th>WORKSITE- NORTH DAKOTA</th>\n",
              "      <th>WORKSITE- OHIO</th>\n",
              "      <th>WORKSITE- OKLAHOMA</th>\n",
              "      <th>WORKSITE- OREGON</th>\n",
              "      <th>WORKSITE- PENNSYLVANIA</th>\n",
              "      <th>WORKSITE- PUERTO RICO</th>\n",
              "      <th>WORKSITE- RHODE ISLAND</th>\n",
              "      <th>WORKSITE- SOUTH CAROLINA</th>\n",
              "      <th>WORKSITE- SOUTH DAKOTA</th>\n",
              "      <th>WORKSITE- TENNESSEE</th>\n",
              "      <th>WORKSITE- TEXAS</th>\n",
              "      <th>WORKSITE- UTAH</th>\n",
              "      <th>WORKSITE- VERMONT</th>\n",
              "      <th>WORKSITE- VIRGINIA</th>\n",
              "      <th>WORKSITE- WASHINGTON</th>\n",
              "      <th>WORKSITE- WEST VIRGINIA</th>\n",
              "      <th>WORKSITE- WISCONSIN</th>\n",
              "      <th>WORKSITE- WYOMING</th>\n",
              "    </tr>\n",
              "  </thead>\n",
              "  <tbody>\n",
              "    <tr>\n",
              "      <th>22</th>\n",
              "      <td>1</td>\n",
              "      <td>0</td>\n",
              "      <td>99986.00</td>\n",
              "      <td>0</td>\n",
              "      <td>1</td>\n",
              "      <td>0</td>\n",
              "      <td>1</td>\n",
              "      <td>0</td>\n",
              "      <td>1</td>\n",
              "      <td>0</td>\n",
              "      <td>0</td>\n",
              "      <td>0</td>\n",
              "      <td>0</td>\n",
              "      <td>0</td>\n",
              "      <td>0</td>\n",
              "      <td>1</td>\n",
              "      <td>0</td>\n",
              "      <td>0</td>\n",
              "      <td>0</td>\n",
              "      <td>0</td>\n",
              "      <td>0</td>\n",
              "      <td>0</td>\n",
              "      <td>0</td>\n",
              "      <td>0</td>\n",
              "      <td>0</td>\n",
              "      <td>0</td>\n",
              "      <td>1</td>\n",
              "      <td>0</td>\n",
              "      <td>0</td>\n",
              "      <td>0</td>\n",
              "      <td>0</td>\n",
              "      <td>0</td>\n",
              "      <td>0</td>\n",
              "      <td>0</td>\n",
              "      <td>0</td>\n",
              "      <td>0</td>\n",
              "      <td>0</td>\n",
              "      <td>0</td>\n",
              "      <td>0</td>\n",
              "      <td>0</td>\n",
              "      <td>0</td>\n",
              "      <td>0</td>\n",
              "      <td>0</td>\n",
              "      <td>0</td>\n",
              "      <td>0</td>\n",
              "      <td>0</td>\n",
              "      <td>0</td>\n",
              "      <td>0</td>\n",
              "      <td>0</td>\n",
              "      <td>0</td>\n",
              "      <td>0</td>\n",
              "      <td>0</td>\n",
              "      <td>0</td>\n",
              "      <td>0</td>\n",
              "      <td>0</td>\n",
              "      <td>0</td>\n",
              "      <td>0</td>\n",
              "      <td>0</td>\n",
              "      <td>0</td>\n",
              "      <td>0</td>\n",
              "      <td>0</td>\n",
              "      <td>0</td>\n",
              "      <td>0</td>\n",
              "      <td>0</td>\n",
              "      <td>0</td>\n",
              "      <td>0</td>\n",
              "      <td>0</td>\n",
              "      <td>0</td>\n",
              "      <td>0</td>\n",
              "      <td>0</td>\n",
              "      <td>0</td>\n",
              "      <td>0</td>\n",
              "      <td>0</td>\n",
              "      <td>0</td>\n",
              "      <td>0</td>\n",
              "    </tr>\n",
              "    <tr>\n",
              "      <th>23</th>\n",
              "      <td>1</td>\n",
              "      <td>2</td>\n",
              "      <td>99986.00</td>\n",
              "      <td>0</td>\n",
              "      <td>1</td>\n",
              "      <td>0</td>\n",
              "      <td>1</td>\n",
              "      <td>0</td>\n",
              "      <td>0</td>\n",
              "      <td>0</td>\n",
              "      <td>1</td>\n",
              "      <td>0</td>\n",
              "      <td>0</td>\n",
              "      <td>0</td>\n",
              "      <td>0</td>\n",
              "      <td>1</td>\n",
              "      <td>0</td>\n",
              "      <td>0</td>\n",
              "      <td>0</td>\n",
              "      <td>0</td>\n",
              "      <td>0</td>\n",
              "      <td>0</td>\n",
              "      <td>0</td>\n",
              "      <td>0</td>\n",
              "      <td>0</td>\n",
              "      <td>0</td>\n",
              "      <td>1</td>\n",
              "      <td>0</td>\n",
              "      <td>0</td>\n",
              "      <td>0</td>\n",
              "      <td>0</td>\n",
              "      <td>0</td>\n",
              "      <td>0</td>\n",
              "      <td>0</td>\n",
              "      <td>0</td>\n",
              "      <td>0</td>\n",
              "      <td>0</td>\n",
              "      <td>0</td>\n",
              "      <td>0</td>\n",
              "      <td>0</td>\n",
              "      <td>0</td>\n",
              "      <td>0</td>\n",
              "      <td>0</td>\n",
              "      <td>0</td>\n",
              "      <td>0</td>\n",
              "      <td>0</td>\n",
              "      <td>0</td>\n",
              "      <td>0</td>\n",
              "      <td>0</td>\n",
              "      <td>0</td>\n",
              "      <td>0</td>\n",
              "      <td>0</td>\n",
              "      <td>0</td>\n",
              "      <td>0</td>\n",
              "      <td>0</td>\n",
              "      <td>0</td>\n",
              "      <td>0</td>\n",
              "      <td>0</td>\n",
              "      <td>0</td>\n",
              "      <td>0</td>\n",
              "      <td>0</td>\n",
              "      <td>0</td>\n",
              "      <td>0</td>\n",
              "      <td>0</td>\n",
              "      <td>0</td>\n",
              "      <td>0</td>\n",
              "      <td>0</td>\n",
              "      <td>0</td>\n",
              "      <td>0</td>\n",
              "      <td>0</td>\n",
              "      <td>0</td>\n",
              "      <td>0</td>\n",
              "      <td>0</td>\n",
              "      <td>0</td>\n",
              "      <td>0</td>\n",
              "    </tr>\n",
              "    <tr>\n",
              "      <th>29</th>\n",
              "      <td>1</td>\n",
              "      <td>5</td>\n",
              "      <td>95295.98</td>\n",
              "      <td>0</td>\n",
              "      <td>1</td>\n",
              "      <td>0</td>\n",
              "      <td>1</td>\n",
              "      <td>1</td>\n",
              "      <td>0</td>\n",
              "      <td>0</td>\n",
              "      <td>0</td>\n",
              "      <td>0</td>\n",
              "      <td>0</td>\n",
              "      <td>0</td>\n",
              "      <td>0</td>\n",
              "      <td>1</td>\n",
              "      <td>0</td>\n",
              "      <td>0</td>\n",
              "      <td>0</td>\n",
              "      <td>0</td>\n",
              "      <td>0</td>\n",
              "      <td>0</td>\n",
              "      <td>0</td>\n",
              "      <td>0</td>\n",
              "      <td>0</td>\n",
              "      <td>0</td>\n",
              "      <td>0</td>\n",
              "      <td>0</td>\n",
              "      <td>0</td>\n",
              "      <td>0</td>\n",
              "      <td>0</td>\n",
              "      <td>1</td>\n",
              "      <td>0</td>\n",
              "      <td>0</td>\n",
              "      <td>0</td>\n",
              "      <td>0</td>\n",
              "      <td>0</td>\n",
              "      <td>0</td>\n",
              "      <td>0</td>\n",
              "      <td>0</td>\n",
              "      <td>0</td>\n",
              "      <td>0</td>\n",
              "      <td>0</td>\n",
              "      <td>0</td>\n",
              "      <td>0</td>\n",
              "      <td>0</td>\n",
              "      <td>0</td>\n",
              "      <td>0</td>\n",
              "      <td>0</td>\n",
              "      <td>0</td>\n",
              "      <td>0</td>\n",
              "      <td>0</td>\n",
              "      <td>0</td>\n",
              "      <td>0</td>\n",
              "      <td>0</td>\n",
              "      <td>0</td>\n",
              "      <td>0</td>\n",
              "      <td>0</td>\n",
              "      <td>0</td>\n",
              "      <td>0</td>\n",
              "      <td>0</td>\n",
              "      <td>0</td>\n",
              "      <td>0</td>\n",
              "      <td>0</td>\n",
              "      <td>0</td>\n",
              "      <td>0</td>\n",
              "      <td>0</td>\n",
              "      <td>0</td>\n",
              "      <td>0</td>\n",
              "      <td>0</td>\n",
              "      <td>0</td>\n",
              "      <td>0</td>\n",
              "      <td>0</td>\n",
              "      <td>0</td>\n",
              "      <td>0</td>\n",
              "    </tr>\n",
              "    <tr>\n",
              "      <th>34</th>\n",
              "      <td>1</td>\n",
              "      <td>9</td>\n",
              "      <td>98550.00</td>\n",
              "      <td>0</td>\n",
              "      <td>1</td>\n",
              "      <td>0</td>\n",
              "      <td>1</td>\n",
              "      <td>1</td>\n",
              "      <td>0</td>\n",
              "      <td>0</td>\n",
              "      <td>0</td>\n",
              "      <td>0</td>\n",
              "      <td>0</td>\n",
              "      <td>0</td>\n",
              "      <td>0</td>\n",
              "      <td>1</td>\n",
              "      <td>0</td>\n",
              "      <td>0</td>\n",
              "      <td>0</td>\n",
              "      <td>0</td>\n",
              "      <td>0</td>\n",
              "      <td>0</td>\n",
              "      <td>0</td>\n",
              "      <td>0</td>\n",
              "      <td>0</td>\n",
              "      <td>0</td>\n",
              "      <td>0</td>\n",
              "      <td>0</td>\n",
              "      <td>0</td>\n",
              "      <td>0</td>\n",
              "      <td>0</td>\n",
              "      <td>0</td>\n",
              "      <td>0</td>\n",
              "      <td>0</td>\n",
              "      <td>0</td>\n",
              "      <td>0</td>\n",
              "      <td>0</td>\n",
              "      <td>0</td>\n",
              "      <td>0</td>\n",
              "      <td>0</td>\n",
              "      <td>0</td>\n",
              "      <td>0</td>\n",
              "      <td>0</td>\n",
              "      <td>0</td>\n",
              "      <td>0</td>\n",
              "      <td>0</td>\n",
              "      <td>0</td>\n",
              "      <td>0</td>\n",
              "      <td>0</td>\n",
              "      <td>0</td>\n",
              "      <td>0</td>\n",
              "      <td>0</td>\n",
              "      <td>0</td>\n",
              "      <td>0</td>\n",
              "      <td>0</td>\n",
              "      <td>0</td>\n",
              "      <td>0</td>\n",
              "      <td>0</td>\n",
              "      <td>0</td>\n",
              "      <td>0</td>\n",
              "      <td>0</td>\n",
              "      <td>0</td>\n",
              "      <td>0</td>\n",
              "      <td>1</td>\n",
              "      <td>0</td>\n",
              "      <td>0</td>\n",
              "      <td>0</td>\n",
              "      <td>0</td>\n",
              "      <td>0</td>\n",
              "      <td>0</td>\n",
              "      <td>0</td>\n",
              "      <td>0</td>\n",
              "      <td>0</td>\n",
              "      <td>0</td>\n",
              "      <td>0</td>\n",
              "    </tr>\n",
              "    <tr>\n",
              "      <th>37</th>\n",
              "      <td>1</td>\n",
              "      <td>10</td>\n",
              "      <td>52416.00</td>\n",
              "      <td>1</td>\n",
              "      <td>0</td>\n",
              "      <td>0</td>\n",
              "      <td>1</td>\n",
              "      <td>0</td>\n",
              "      <td>1</td>\n",
              "      <td>0</td>\n",
              "      <td>0</td>\n",
              "      <td>0</td>\n",
              "      <td>0</td>\n",
              "      <td>0</td>\n",
              "      <td>0</td>\n",
              "      <td>1</td>\n",
              "      <td>0</td>\n",
              "      <td>0</td>\n",
              "      <td>0</td>\n",
              "      <td>0</td>\n",
              "      <td>0</td>\n",
              "      <td>0</td>\n",
              "      <td>0</td>\n",
              "      <td>0</td>\n",
              "      <td>0</td>\n",
              "      <td>0</td>\n",
              "      <td>0</td>\n",
              "      <td>0</td>\n",
              "      <td>0</td>\n",
              "      <td>0</td>\n",
              "      <td>0</td>\n",
              "      <td>0</td>\n",
              "      <td>0</td>\n",
              "      <td>0</td>\n",
              "      <td>0</td>\n",
              "      <td>0</td>\n",
              "      <td>0</td>\n",
              "      <td>0</td>\n",
              "      <td>0</td>\n",
              "      <td>0</td>\n",
              "      <td>0</td>\n",
              "      <td>0</td>\n",
              "      <td>0</td>\n",
              "      <td>0</td>\n",
              "      <td>0</td>\n",
              "      <td>0</td>\n",
              "      <td>0</td>\n",
              "      <td>0</td>\n",
              "      <td>0</td>\n",
              "      <td>0</td>\n",
              "      <td>0</td>\n",
              "      <td>0</td>\n",
              "      <td>0</td>\n",
              "      <td>0</td>\n",
              "      <td>0</td>\n",
              "      <td>0</td>\n",
              "      <td>0</td>\n",
              "      <td>0</td>\n",
              "      <td>1</td>\n",
              "      <td>0</td>\n",
              "      <td>0</td>\n",
              "      <td>0</td>\n",
              "      <td>0</td>\n",
              "      <td>0</td>\n",
              "      <td>0</td>\n",
              "      <td>0</td>\n",
              "      <td>0</td>\n",
              "      <td>0</td>\n",
              "      <td>0</td>\n",
              "      <td>0</td>\n",
              "      <td>0</td>\n",
              "      <td>0</td>\n",
              "      <td>0</td>\n",
              "      <td>0</td>\n",
              "      <td>0</td>\n",
              "    </tr>\n",
              "  </tbody>\n",
              "</table>\n",
              "</div>"
            ],
            "text/plain": [
              "    CASE_STATUS  JOB_TITLE  ...  WORKSITE- WISCONSIN  WORKSITE- WYOMING\n",
              "22            1          0  ...                    0                  0\n",
              "23            1          2  ...                    0                  0\n",
              "29            1          5  ...                    0                  0\n",
              "34            1          9  ...                    0                  0\n",
              "37            1         10  ...                    0                  0\n",
              "\n",
              "[5 rows x 75 columns]"
            ]
          },
          "metadata": {
            "tags": []
          },
          "execution_count": 61
        }
      ]
    },
    {
      "cell_type": "markdown",
      "metadata": {
        "id": "os2IdYZC7IhU"
      },
      "source": [
        "### **Splitting into X and Y**"
      ]
    },
    {
      "cell_type": "code",
      "metadata": {
        "id": "f-p1VWXQ5YR6"
      },
      "source": [
        "x = initial_data.drop('CASE_STATUS', axis=1)\n",
        "y = initial_data.CASE_STATUS"
      ],
      "execution_count": null,
      "outputs": []
    },
    {
      "cell_type": "code",
      "metadata": {
        "colab": {
          "base_uri": "https://localhost:8080/"
        },
        "id": "T2LkCbjtO5Ft",
        "outputId": "fe854724-ffae-4da5-8e81-840255993485"
      },
      "source": [
        "print(x.head())\n",
        "x.shape"
      ],
      "execution_count": null,
      "outputs": [
        {
          "output_type": "stream",
          "text": [
            "    JOB_TITLE  PREVAILING_WAGE  ...  WORKSITE- WISCONSIN  WORKSITE- WYOMING\n",
            "22          0         99986.00  ...                    0                  0\n",
            "23          2         99986.00  ...                    0                  0\n",
            "29          5         95295.98  ...                    0                  0\n",
            "34          9         98550.00  ...                    0                  0\n",
            "37         10         52416.00  ...                    0                  0\n",
            "\n",
            "[5 rows x 74 columns]\n"
          ],
          "name": "stdout"
        },
        {
          "output_type": "execute_result",
          "data": {
            "text/plain": [
              "(722978, 74)"
            ]
          },
          "metadata": {
            "tags": []
          },
          "execution_count": 63
        }
      ]
    },
    {
      "cell_type": "code",
      "metadata": {
        "colab": {
          "base_uri": "https://localhost:8080/"
        },
        "id": "OPpKLt7ZPNfG",
        "outputId": "25b30f78-7bbf-4039-ffa3-0147599dc736"
      },
      "source": [
        "print(y.head())\n",
        "y.shape"
      ],
      "execution_count": null,
      "outputs": [
        {
          "output_type": "stream",
          "text": [
            "22    1\n",
            "23    1\n",
            "29    1\n",
            "34    1\n",
            "37    1\n",
            "Name: CASE_STATUS, dtype: int64\n"
          ],
          "name": "stdout"
        },
        {
          "output_type": "execute_result",
          "data": {
            "text/plain": [
              "(722978,)"
            ]
          },
          "metadata": {
            "tags": []
          },
          "execution_count": 64
        }
      ]
    },
    {
      "cell_type": "code",
      "metadata": {
        "colab": {
          "base_uri": "https://localhost:8080/"
        },
        "id": "-VRtEkR-eQRO",
        "outputId": "d2b93ebb-6525-424d-9de3-308f9299b3a9"
      },
      "source": [
        "# Applying StandardScalar preprocessing on the x data\n",
        "from sklearn.preprocessing import StandardScaler\n",
        "normalize = StandardScaler()\n",
        "x = normalize.fit_transform(x)\n",
        "x"
      ],
      "execution_count": null,
      "outputs": [
        {
          "output_type": "execute_result",
          "data": {
            "text/plain": [
              "array([[-1.00650817,  2.25603403, -0.73604418, ..., -0.01903999,\n",
              "        -0.10638549, -0.00991033],\n",
              "       [-1.00641682,  2.25603403, -0.73604418, ..., -0.01903999,\n",
              "        -0.10638549, -0.00991033],\n",
              "       [-1.00627978,  1.91034227, -0.73604418, ..., -0.01903999,\n",
              "        -0.10638549, -0.00991033],\n",
              "       ...,\n",
              "       [-0.14164201, -0.84087918, -0.73604418, ..., -0.01903999,\n",
              "        -0.10638549, -0.00991033],\n",
              "       [-0.14378888, -1.31003028, -0.73604418, ..., -0.01903999,\n",
              "        -0.10638549, -0.00991033],\n",
              "       [ 0.45998216,  1.82675893, -0.73604418, ..., -0.01903999,\n",
              "        -0.10638549, -0.00991033]])"
            ]
          },
          "metadata": {
            "tags": []
          },
          "execution_count": 65
        }
      ]
    },
    {
      "cell_type": "code",
      "metadata": {
        "colab": {
          "base_uri": "https://localhost:8080/"
        },
        "id": "1vbn7ruUstkz",
        "outputId": "0e09b364-2988-4cec-e824-0c7437fccd3d"
      },
      "source": [
        "from collections import Counter\n",
        "from sklearn.datasets import make_classification\n",
        "from imblearn.over_sampling import RandomOverSampler\n",
        "from imblearn.under_sampling import RandomUnderSampler\n",
        "\n",
        "print(Counter(y))"
      ],
      "execution_count": null,
      "outputs": [
        {
          "output_type": "stream",
          "text": [
            "Counter({1: 713398, 0: 9580})\n"
          ],
          "name": "stdout"
        }
      ]
    },
    {
      "cell_type": "code",
      "metadata": {
        "cellView": "code",
        "id": "5iBFfZ4Z7kB1"
      },
      "source": [
        "# for imbalanced data I Applied NearMiss downsampling technique https://youtu.be/Ti8SbfFecuc\n",
        "from imblearn.under_sampling import NearMiss \n",
        "nr = NearMiss() \n",
        "  \n",
        "x, y = nr.fit_sample(x, y)"
      ],
      "execution_count": null,
      "outputs": []
    },
    {
      "cell_type": "code",
      "metadata": {
        "colab": {
          "base_uri": "https://localhost:8080/"
        },
        "id": "NHdfwqw8xJcK",
        "outputId": "0a062959-a468-4885-ee23-65b230852f44"
      },
      "source": [
        "Counter(y)"
      ],
      "execution_count": null,
      "outputs": [
        {
          "output_type": "execute_result",
          "data": {
            "text/plain": [
              "Counter({0: 9580, 1: 9580})"
            ]
          },
          "metadata": {
            "tags": []
          },
          "execution_count": 68
        }
      ]
    },
    {
      "cell_type": "code",
      "metadata": {
        "colab": {
          "base_uri": "https://localhost:8080/"
        },
        "id": "ycpdSf5cIDPG",
        "outputId": "35f66338-5f23-4569-e2a0-d8e3ca424132"
      },
      "source": [
        "y"
      ],
      "execution_count": null,
      "outputs": [
        {
          "output_type": "execute_result",
          "data": {
            "text/plain": [
              "array([0, 0, 0, ..., 1, 1, 1])"
            ]
          },
          "metadata": {
            "tags": []
          },
          "execution_count": 69
        }
      ]
    },
    {
      "cell_type": "code",
      "metadata": {
        "colab": {
          "base_uri": "https://localhost:8080/"
        },
        "id": "GKjvSzcPNLA8",
        "outputId": "71fb7fa2-c376-4104-dfde-cedc877a6142"
      },
      "source": [
        "x.shape"
      ],
      "execution_count": null,
      "outputs": [
        {
          "output_type": "execute_result",
          "data": {
            "text/plain": [
              "(19160, 74)"
            ]
          },
          "metadata": {
            "tags": []
          },
          "execution_count": 70
        }
      ]
    },
    {
      "cell_type": "code",
      "metadata": {
        "colab": {
          "base_uri": "https://localhost:8080/"
        },
        "id": "fUQAO3pcNPQF",
        "outputId": "ecdd4107-1f4a-4329-ea8b-169c440434c6"
      },
      "source": [
        "y.shape"
      ],
      "execution_count": null,
      "outputs": [
        {
          "output_type": "execute_result",
          "data": {
            "text/plain": [
              "(19160,)"
            ]
          },
          "metadata": {
            "tags": []
          },
          "execution_count": 71
        }
      ]
    },
    {
      "cell_type": "markdown",
      "metadata": {
        "id": "K4OLPkfioUOd"
      },
      "source": [
        "### **Split Train and Test data**"
      ]
    },
    {
      "cell_type": "code",
      "metadata": {
        "id": "OuS2zyBySPSd"
      },
      "source": [
        "x_train,x_test,y_train,y_test = train_test_split(x,y,test_size=0.30,random_state=42)"
      ],
      "execution_count": null,
      "outputs": []
    },
    {
      "cell_type": "code",
      "metadata": {
        "colab": {
          "base_uri": "https://localhost:8080/"
        },
        "id": "Z4ZI2_VMSiX3",
        "outputId": "247b744b-248a-4a48-f377-fa5d02ef45a8"
      },
      "source": [
        "print(\"\\nNumber of col/row currently:\")\n",
        "print('X Training: ', x_train.shape)\n",
        "print('Y Training: ', y_train.shape)\n",
        "print('X Testing: ', x_test.shape)\n",
        "print('Y Testing: ', y_test.shape)"
      ],
      "execution_count": null,
      "outputs": [
        {
          "output_type": "stream",
          "text": [
            "\n",
            "Number of col/row currently:\n",
            "X Training:  (13412, 74)\n",
            "Y Training:  (13412,)\n",
            "X Testing:  (5748, 74)\n",
            "Y Testing:  (5748,)\n"
          ],
          "name": "stdout"
        }
      ]
    },
    {
      "cell_type": "code",
      "metadata": {
        "colab": {
          "base_uri": "https://localhost:8080/"
        },
        "id": "bRToapivIVCP",
        "outputId": "94ff1627-3220-4704-b1c7-3a22a6d48abc"
      },
      "source": [
        "y_test"
      ],
      "execution_count": null,
      "outputs": [
        {
          "output_type": "execute_result",
          "data": {
            "text/plain": [
              "array([1, 1, 0, ..., 0, 1, 1])"
            ]
          },
          "metadata": {
            "tags": []
          },
          "execution_count": 74
        }
      ]
    },
    {
      "cell_type": "markdown",
      "metadata": {
        "id": "GrNGnwlcswHt"
      },
      "source": [
        "### **Neural networks**"
      ]
    },
    {
      "cell_type": "code",
      "metadata": {
        "colab": {
          "base_uri": "https://localhost:8080/"
        },
        "id": "-laP-5p0VkvT",
        "outputId": "fcfac244-760c-4a78-9497-b67387785a95"
      },
      "source": [
        "from tensorflow.keras.models import Sequential\n",
        "from tensorflow.keras.layers import Dense, Activation\n",
        "from tensorflow.keras.callbacks import EarlyStopping, ModelCheckpoint\n",
        "model = Sequential()\n",
        "model.add(Dense(128, input_dim=x_train.shape[1], activation='tanh'))\n",
        "model.add(Dense(64, activation='tanh'))\n",
        "model.add(Dense(32, activation='tanh'))\n",
        "model.add(Dense(1, activation='tanh'))\n",
        "\n",
        "model.compile(loss='binary_crossentropy', optimizer='adam', metrics=['accuracy'])\n",
        "\n",
        "monitor = EarlyStopping(monitor='val_loss', min_delta=1e-3, patience=20, verbose=2, mode='min')\n",
        "checkpoint = ModelCheckpoint(filepath='.weights.hdf5', verbose=1, save_best_only=True)\n",
        "model.fit(x_train,y_train,verbose=2,epochs=200, batch_size=20,  callbacks=[monitor, checkpoint], validation_split=0.25)\n",
        "\n",
        "model.summary()\n",
        "\n",
        "#print(x_test)\n",
        "y_pred = model.predict(x_test)\n",
        "y_newpred = (y_pred > 0.5)\n",
        "\n",
        "print(y_test)\n",
        "\n",
        "score_test = np.sqrt(metrics.mean_squared_error(y_newpred,y_test))\n",
        "print(\"Score_test (RMSE): {}\".format(score_test))    "
      ],
      "execution_count": null,
      "outputs": [
        {
          "output_type": "stream",
          "text": [
            "Epoch 1/200\n",
            "\n",
            "Epoch 00001: val_loss improved from inf to 0.22929, saving model to .weights.hdf5\n",
            "503/503 - 2s - loss: 0.3063 - accuracy: 0.9068 - val_loss: 0.2293 - val_accuracy: 0.9314\n",
            "Epoch 2/200\n",
            "\n",
            "Epoch 00002: val_loss improved from 0.22929 to 0.22409, saving model to .weights.hdf5\n",
            "503/503 - 1s - loss: 0.2348 - accuracy: 0.9306 - val_loss: 0.2241 - val_accuracy: 0.9365\n",
            "Epoch 3/200\n",
            "\n",
            "Epoch 00003: val_loss improved from 0.22409 to 0.20025, saving model to .weights.hdf5\n",
            "503/503 - 1s - loss: 0.1984 - accuracy: 0.9414 - val_loss: 0.2003 - val_accuracy: 0.9460\n",
            "Epoch 4/200\n",
            "\n",
            "Epoch 00004: val_loss did not improve from 0.20025\n",
            "503/503 - 1s - loss: 0.2249 - accuracy: 0.9460 - val_loss: 0.2177 - val_accuracy: 0.9493\n",
            "Epoch 5/200\n",
            "\n",
            "Epoch 00005: val_loss did not improve from 0.20025\n",
            "503/503 - 1s - loss: 0.2329 - accuracy: 0.9476 - val_loss: 0.2240 - val_accuracy: 0.9514\n",
            "Epoch 6/200\n",
            "\n",
            "Epoch 00006: val_loss did not improve from 0.20025\n",
            "503/503 - 1s - loss: 0.2377 - accuracy: 0.9457 - val_loss: 0.2214 - val_accuracy: 0.9517\n",
            "Epoch 7/200\n",
            "\n",
            "Epoch 00007: val_loss did not improve from 0.20025\n",
            "503/503 - 1s - loss: 0.2432 - accuracy: 0.9482 - val_loss: 0.3393 - val_accuracy: 0.9439\n",
            "Epoch 8/200\n",
            "\n",
            "Epoch 00008: val_loss did not improve from 0.20025\n",
            "503/503 - 1s - loss: 0.2300 - accuracy: 0.9474 - val_loss: 0.2631 - val_accuracy: 0.9484\n",
            "Epoch 9/200\n",
            "\n",
            "Epoch 00009: val_loss did not improve from 0.20025\n",
            "503/503 - 1s - loss: 0.2566 - accuracy: 0.9452 - val_loss: 0.2152 - val_accuracy: 0.9511\n",
            "Epoch 10/200\n",
            "\n",
            "Epoch 00010: val_loss did not improve from 0.20025\n",
            "503/503 - 1s - loss: 0.2410 - accuracy: 0.9471 - val_loss: 0.2168 - val_accuracy: 0.9484\n",
            "Epoch 11/200\n",
            "\n",
            "Epoch 00011: val_loss did not improve from 0.20025\n",
            "503/503 - 1s - loss: 0.2288 - accuracy: 0.9489 - val_loss: 0.2129 - val_accuracy: 0.9523\n",
            "Epoch 12/200\n",
            "\n",
            "Epoch 00012: val_loss did not improve from 0.20025\n",
            "503/503 - 1s - loss: 0.2120 - accuracy: 0.9544 - val_loss: 0.2184 - val_accuracy: 0.9520\n",
            "Epoch 13/200\n",
            "\n",
            "Epoch 00013: val_loss did not improve from 0.20025\n",
            "503/503 - 1s - loss: 0.2335 - accuracy: 0.9533 - val_loss: 0.2501 - val_accuracy: 0.9535\n",
            "Epoch 14/200\n",
            "\n",
            "Epoch 00014: val_loss did not improve from 0.20025\n",
            "503/503 - 1s - loss: 0.2592 - accuracy: 0.9510 - val_loss: 0.3577 - val_accuracy: 0.9460\n",
            "Epoch 15/200\n",
            "\n",
            "Epoch 00015: val_loss did not improve from 0.20025\n",
            "503/503 - 1s - loss: 0.2838 - accuracy: 0.9463 - val_loss: 0.2444 - val_accuracy: 0.9493\n",
            "Epoch 16/200\n",
            "\n",
            "Epoch 00016: val_loss did not improve from 0.20025\n",
            "503/503 - 1s - loss: 0.2460 - accuracy: 0.9513 - val_loss: 0.2377 - val_accuracy: 0.9529\n",
            "Epoch 17/200\n",
            "\n",
            "Epoch 00017: val_loss did not improve from 0.20025\n",
            "503/503 - 1s - loss: 0.2395 - accuracy: 0.9535 - val_loss: 0.2375 - val_accuracy: 0.9562\n",
            "Epoch 18/200\n",
            "\n",
            "Epoch 00018: val_loss did not improve from 0.20025\n",
            "503/503 - 1s - loss: 0.2390 - accuracy: 0.9553 - val_loss: 0.2490 - val_accuracy: 0.9559\n",
            "Epoch 19/200\n",
            "\n",
            "Epoch 00019: val_loss did not improve from 0.20025\n",
            "503/503 - 1s - loss: 0.2452 - accuracy: 0.9539 - val_loss: 0.2337 - val_accuracy: 0.9591\n",
            "Epoch 20/200\n",
            "\n",
            "Epoch 00020: val_loss did not improve from 0.20025\n",
            "503/503 - 1s - loss: 0.2391 - accuracy: 0.9565 - val_loss: 0.2303 - val_accuracy: 0.9559\n",
            "Epoch 21/200\n",
            "\n",
            "Epoch 00021: val_loss did not improve from 0.20025\n",
            "503/503 - 1s - loss: 0.2457 - accuracy: 0.9552 - val_loss: 0.2300 - val_accuracy: 0.9591\n",
            "Epoch 22/200\n",
            "\n",
            "Epoch 00022: val_loss did not improve from 0.20025\n",
            "503/503 - 1s - loss: 0.2420 - accuracy: 0.9558 - val_loss: 0.2285 - val_accuracy: 0.9547\n",
            "Epoch 23/200\n",
            "\n",
            "Epoch 00023: val_loss did not improve from 0.20025\n",
            "503/503 - 1s - loss: 0.2396 - accuracy: 0.9563 - val_loss: 0.2345 - val_accuracy: 0.9535\n",
            "Epoch 00023: early stopping\n",
            "Model: \"sequential_2\"\n",
            "_________________________________________________________________\n",
            "Layer (type)                 Output Shape              Param #   \n",
            "=================================================================\n",
            "dense_6 (Dense)              (None, 128)               9600      \n",
            "_________________________________________________________________\n",
            "dense_7 (Dense)              (None, 64)                8256      \n",
            "_________________________________________________________________\n",
            "dense_8 (Dense)              (None, 32)                2080      \n",
            "_________________________________________________________________\n",
            "dense_9 (Dense)              (None, 1)                 33        \n",
            "=================================================================\n",
            "Total params: 19,969\n",
            "Trainable params: 19,969\n",
            "Non-trainable params: 0\n",
            "_________________________________________________________________\n",
            "[1 1 0 ... 0 1 1]\n",
            "Score_test (RMSE): 0.2077148090359286\n"
          ],
          "name": "stdout"
        }
      ]
    },
    {
      "cell_type": "code",
      "metadata": {
        "colab": {
          "base_uri": "https://localhost:8080/",
          "height": 345
        },
        "id": "m3sc4XIgbYUr",
        "outputId": "0979e49a-545e-4cde-8f09-cceb77f36635"
      },
      "source": [
        "#CONFUSION MATRIX\n",
        "cm = confusion_matrix(y_test, y_newpred)\n",
        "print(cm)\n",
        "plot_confusion_matrix(cm,['0','1'])  "
      ],
      "execution_count": null,
      "outputs": [
        {
          "output_type": "stream",
          "text": [
            "[[2706  177]\n",
            " [  71 2794]]\n"
          ],
          "name": "stdout"
        },
        {
          "output_type": "display_data",
          "data": {
            "image/png": "[encoded data removed]",
            "text/plain": [
              "<Figure size 432x288 with 2 Axes>"
            ]
          },
          "metadata": {
            "tags": [],
            "needs_background": "light"
          }
        }
      ]
    },
    {
      "cell_type": "code",
      "metadata": {
        "colab": {
          "base_uri": "https://localhost:8080/"
        },
        "id": "4EXaW0eXfzD8",
        "outputId": "67cc6b42-19dc-4d33-f29f-f2e0123cb0f8"
      },
      "source": [
        "# Print classification report\n",
        "print(metrics.classification_report(y_test, y_newpred))"
      ],
      "execution_count": null,
      "outputs": [
        {
          "output_type": "stream",
          "text": [
            "              precision    recall  f1-score   support\n",
            "\n",
            "           0       0.97      0.94      0.96      2883\n",
            "           1       0.94      0.98      0.96      2865\n",
            "\n",
            "    accuracy                           0.96      5748\n",
            "   macro avg       0.96      0.96      0.96      5748\n",
            "weighted avg       0.96      0.96      0.96      5748\n",
            "\n"
          ],
          "name": "stdout"
        }
      ]
    },
    {
      "cell_type": "code",
      "metadata": {
        "colab": {
          "base_uri": "https://localhost:8080/",
          "height": 294
        },
        "id": "BMjXM8uCVkX_",
        "outputId": "3808be7f-272a-406c-e60b-76978dd7e890"
      },
      "source": [
        " #PLOT ROC CURVE\n",
        "plot_roc(y_newpred,y_test)"
      ],
      "execution_count": null,
      "outputs": [
        {
          "output_type": "display_data",
          "data": {
            "image/png": "[encoded data removed]",
            "text/plain": [
              "<Figure size 432x288 with 1 Axes>"
            ]
          },
          "metadata": {
            "tags": [],
            "needs_background": "light"
          }
        }
      ]
    },
    {
      "cell_type": "markdown",
      "metadata": {
        "id": "jtNz63OJiRI8"
      },
      "source": [
        "### **LOGISTIC REGRESSION**"
      ]
    },
    {
      "cell_type": "code",
      "metadata": {
        "id": "qDNBvkzThtso",
        "colab": {
          "base_uri": "https://localhost:8080/",
          "height": 780
        },
        "outputId": "cb64b35e-c5e7-4941-8844-e56c08eeba18"
      },
      "source": [
        "# instantiate the model \n",
        "logreg = LogisticRegression(max_iter=1000, solver='lbfgs', multi_class='ovr')\n",
        "\n",
        "# fit the model with data\n",
        "logreg.fit(x_train, y_train)\n",
        "\n",
        "# predict the response\n",
        "logreg_pred = logreg.predict(x_test)\n",
        "\n",
        "# Compute the confusion matric\n",
        "cm = confusion_matrix(y_test, logreg_pred)\n",
        "\n",
        "# Plot confusion matrics\n",
        "print(cm)\n",
        "plt.figure()\n",
        "plot_confusion_matrix(cm, [0,1])\n",
        "plt.show()\n",
        "\n",
        "#Print classification report\n",
        "print(metrics.classification_report(y_test, logreg_pred))\n",
        "\n",
        "#Plot ROC\n",
        "plot_roc(logreg_pred, y_test)"
      ],
      "execution_count": null,
      "outputs": [
        {
          "output_type": "stream",
          "text": [
            "[[2559  324]\n",
            " [  83 2782]]\n"
          ],
          "name": "stdout"
        },
        {
          "output_type": "display_data",
          "data": {
            "image/png": "[encoded data removed]",
            "text/plain": [
              "<Figure size 432x288 with 2 Axes>"
            ]
          },
          "metadata": {
            "tags": [],
            "needs_background": "light"
          }
        },
        {
          "output_type": "stream",
          "text": [
            "              precision    recall  f1-score   support\n",
            "\n",
            "           0       0.97      0.89      0.93      2883\n",
            "           1       0.90      0.97      0.93      2865\n",
            "\n",
            "    accuracy                           0.93      5748\n",
            "   macro avg       0.93      0.93      0.93      5748\n",
            "weighted avg       0.93      0.93      0.93      5748\n",
            "\n"
          ],
          "name": "stdout"
        },
        {
          "output_type": "display_data",
          "data": {
            "image/png": "[encoded data removed]",
            "text/plain": [
              "<Figure size 432x288 with 1 Axes>"
            ]
          },
          "metadata": {
            "tags": [],
            "needs_background": "light"
          }
        }
      ]
    },
    {
      "cell_type": "markdown",
      "metadata": {
        "id": "_hypOWp_giI_"
      },
      "source": [
        "### **KNN CLASSIFIER**"
      ]
    },
    {
      "cell_type": "code",
      "metadata": {
        "id": "WRChllG3gQul",
        "colab": {
          "base_uri": "https://localhost:8080/",
          "height": 780
        },
        "outputId": "8c7edae0-c566-4dcc-f784-92e261daec4c"
      },
      "source": [
        "# instantiate the model (using the value K=3)\n",
        "knn = KNeighborsClassifier(n_neighbors=3)\n",
        "\n",
        "# fit the model with data\n",
        "knn.fit(x_train, y_train)\n",
        "\n",
        "# predict the response for new observations\n",
        "knn_pred=knn.predict(x_test)\n",
        "\n",
        "# Compute the confusion matric\n",
        "cm = confusion_matrix(y_test, knn_pred)\n",
        "\n",
        "# Plot confusion matrics\n",
        "print(cm)\n",
        "plt.figure()\n",
        "plot_confusion_matrix(cm, [0,1])\n",
        "plt.show()\n",
        "\n",
        "# Print classification report\n",
        "print(metrics.classification_report(y_test, knn_pred))\n",
        "\n",
        "# Plot ROC\n",
        "plot_roc(knn_pred, y_test)"
      ],
      "execution_count": null,
      "outputs": [
        {
          "output_type": "stream",
          "text": [
            "[[2766  117]\n",
            " [  14 2851]]\n"
          ],
          "name": "stdout"
        },
        {
          "output_type": "display_data",
          "data": {
            "image/png": "[encoded data removed]",
            "text/plain": [
              "<Figure size 432x288 with 2 Axes>"
            ]
          },
          "metadata": {
            "tags": [],
            "needs_background": "light"
          }
        },
        {
          "output_type": "stream",
          "text": [
            "              precision    recall  f1-score   support\n",
            "\n",
            "           0       0.99      0.96      0.98      2883\n",
            "           1       0.96      1.00      0.98      2865\n",
            "\n",
            "    accuracy                           0.98      5748\n",
            "   macro avg       0.98      0.98      0.98      5748\n",
            "weighted avg       0.98      0.98      0.98      5748\n",
            "\n"
          ],
          "name": "stdout"
        },
        {
          "output_type": "display_data",
          "data": {
            "image/png": "[encoded data removed]",
            "text/plain": [
              "<Figure size 432x288 with 1 Axes>"
            ]
          },
          "metadata": {
            "tags": [],
            "needs_background": "light"
          }
        }
      ]
    },
    {
      "cell_type": "markdown",
      "metadata": {
        "id": "n-2XcyTIiajc"
      },
      "source": [
        "### **SUPPORT VECTOR MACHINE**"
      ]
    },
    {
      "cell_type": "code",
      "metadata": {
        "id": "oYTcU0XHewH1",
        "colab": {
          "base_uri": "https://localhost:8080/",
          "height": 780
        },
        "outputId": "1aed5bff-960e-4db3-fc9b-47385d4a985e"
      },
      "source": [
        "svm_clf = SVC(probability=True)\n",
        "svm_clf.fit(x_train,y_train)\n",
        "svm_pred=svm_clf.predict(x_test)\n",
        "\n",
        "# Compute the confusion matric\n",
        "cm = confusion_matrix(y_test, svm_pred)\n",
        "\n",
        "# Plot confusion matrics\n",
        "print(cm)\n",
        "plt.figure()\n",
        "plot_confusion_matrix(cm, [0,1])\n",
        "plt.show()\n",
        "\n",
        "\n",
        "# Plot ROC\n",
        "plot_roc(svm_pred, y_test)\n",
        "\n",
        "# Print classification report\n",
        "print(metrics.classification_report(y_test, svm_pred))"
      ],
      "execution_count": null,
      "outputs": [
        {
          "output_type": "stream",
          "text": [
            "[[2635  248]\n",
            " [  55 2810]]\n"
          ],
          "name": "stdout"
        },
        {
          "output_type": "display_data",
          "data": {
            "image/png": "[encoded data removed]",
            "text/plain": [
              "<Figure size 432x288 with 2 Axes>"
            ]
          },
          "metadata": {
            "tags": [],
            "needs_background": "light"
          }
        },
        {
          "output_type": "display_data",
          "data": {
            "image/png": "[encoded data removed]",
            "text/plain": [
              "<Figure size 432x288 with 1 Axes>"
            ]
          },
          "metadata": {
            "tags": [],
            "needs_background": "light"
          }
        },
        {
          "output_type": "stream",
          "text": [
            "              precision    recall  f1-score   support\n",
            "\n",
            "           0       0.98      0.91      0.95      2883\n",
            "           1       0.92      0.98      0.95      2865\n",
            "\n",
            "    accuracy                           0.95      5748\n",
            "   macro avg       0.95      0.95      0.95      5748\n",
            "weighted avg       0.95      0.95      0.95      5748\n",
            "\n"
          ],
          "name": "stdout"
        }
      ]
    },
    {
      "cell_type": "markdown",
      "metadata": {
        "id": "WZssKasGkPjG"
      },
      "source": [
        "### **CNN**"
      ]
    },
    {
      "cell_type": "code",
      "metadata": {
        "id": "uA22ujnXDMso"
      },
      "source": [
        "x_train_cnn = np.expand_dims(x_train,axis=2)\n",
        "x_test_cnn = np.expand_dims(x_test, axis=2)"
      ],
      "execution_count": null,
      "outputs": []
    },
    {
      "cell_type": "code",
      "metadata": {
        "id": "RF4gN7PolnoO",
        "colab": {
          "base_uri": "https://localhost:8080/"
        },
        "outputId": "9087eb3d-ad8f-4ee2-d136-cc31b593a701"
      },
      "source": [
        "print(x_train_cnn.shape)\n",
        "print(x_test_cnn.shape)\n",
        "print(y_train.shape)\n",
        "print(y_test.shape)"
      ],
      "execution_count": null,
      "outputs": [
        {
          "output_type": "stream",
          "text": [
            "(13412, 74, 1)\n",
            "(5748, 74, 1)\n",
            "(13412,)\n",
            "(5748,)\n"
          ],
          "name": "stdout"
        }
      ]
    },
    {
      "cell_type": "code",
      "metadata": {
        "id": "w7LwyQ3l0xrW",
        "colab": {
          "base_uri": "https://localhost:8080/"
        },
        "outputId": "3b1fec07-3d6e-4572-d54f-0302ede56a4b"
      },
      "source": [
        "from sklearn import metrics\n",
        "from tensorflow.keras.models import Sequential\n",
        "from tensorflow.keras.layers import Dense, Dropout, Flatten\n",
        "from tensorflow.keras.layers import Conv1D, MaxPooling1D\n",
        "from tensorflow.keras.models import Sequential\n",
        "from tensorflow.keras.layers import Dense, Activation\n",
        "from tensorflow.keras.callbacks import EarlyStopping\n",
        "from tensorflow.keras.callbacks import ModelCheckpoint\n",
        "\n",
        "model = Sequential()\n",
        "model.add(Conv1D(filters=256, kernel_size=4,strides=2,input_shape=(74,1), activation='relu'))\n",
        "model.add(MaxPooling1D(pool_size=2))\n",
        "model.add(Conv1D(filters=128, kernel_size=4, activation='relu'))\n",
        "model.add(MaxPooling1D(pool_size=2))\n",
        "model.add(Flatten())\n",
        "model.add(Dense(100, activation='relu'))\n",
        "model.add(Dense(2,activation='softmax'))\n",
        "model.compile(loss='sparse_categorical_crossentropy', optimizer='adam', metrics=['accuracy'])\n",
        "monitor = EarlyStopping(monitor='val_loss', min_delta=1e-3, patience=5, verbose=1, mode='auto')\n",
        "checkpointer = ModelCheckpoint(filepath=\".best_weights.hdf5\", verbose=0, save_best_only=True)\n",
        "model.fit(x_train_cnn, y_train,validation_data=(x_test_cnn,y_test),callbacks=[monitor,checkpointer],verbose=2,epochs=100)\n",
        "model.load_weights('.best_weights.hdf5')\n",
        "\n",
        "model.summary()"
      ],
      "execution_count": null,
      "outputs": [
        {
          "output_type": "stream",
          "text": [
            "Epoch 1/100\n",
            "420/420 - 2s - loss: 0.2642 - accuracy: 0.8944 - val_loss: 0.1908 - val_accuracy: 0.9328\n",
            "Epoch 2/100\n",
            "420/420 - 1s - loss: 0.1893 - accuracy: 0.9332 - val_loss: 0.1596 - val_accuracy: 0.9393\n",
            "Epoch 3/100\n",
            "420/420 - 1s - loss: 0.1711 - accuracy: 0.9389 - val_loss: 0.1549 - val_accuracy: 0.9440\n",
            "Epoch 4/100\n",
            "420/420 - 1s - loss: 0.1587 - accuracy: 0.9445 - val_loss: 0.1394 - val_accuracy: 0.9497\n",
            "Epoch 5/100\n",
            "420/420 - 1s - loss: 0.1501 - accuracy: 0.9498 - val_loss: 0.1448 - val_accuracy: 0.9574\n",
            "Epoch 6/100\n",
            "420/420 - 1s - loss: 0.1473 - accuracy: 0.9517 - val_loss: 0.1362 - val_accuracy: 0.9522\n",
            "Epoch 7/100\n",
            "420/420 - 1s - loss: 0.1443 - accuracy: 0.9532 - val_loss: 0.1505 - val_accuracy: 0.9497\n",
            "Epoch 8/100\n",
            "420/420 - 1s - loss: 0.1418 - accuracy: 0.9542 - val_loss: 0.1274 - val_accuracy: 0.9593\n",
            "Epoch 9/100\n",
            "420/420 - 1s - loss: 0.1373 - accuracy: 0.9572 - val_loss: 0.1362 - val_accuracy: 0.9562\n",
            "Epoch 10/100\n",
            "420/420 - 1s - loss: 0.1374 - accuracy: 0.9562 - val_loss: 0.1268 - val_accuracy: 0.9603\n",
            "Epoch 11/100\n",
            "420/420 - 1s - loss: 0.1320 - accuracy: 0.9576 - val_loss: 0.1198 - val_accuracy: 0.9635\n",
            "Epoch 12/100\n",
            "420/420 - 1s - loss: 0.1285 - accuracy: 0.9586 - val_loss: 0.1199 - val_accuracy: 0.9636\n",
            "Epoch 13/100\n",
            "420/420 - 1s - loss: 0.1254 - accuracy: 0.9591 - val_loss: 0.1176 - val_accuracy: 0.9626\n",
            "Epoch 14/100\n",
            "420/420 - 1s - loss: 0.1231 - accuracy: 0.9598 - val_loss: 0.1176 - val_accuracy: 0.9642\n",
            "Epoch 15/100\n",
            "420/420 - 1s - loss: 0.1238 - accuracy: 0.9599 - val_loss: 0.1128 - val_accuracy: 0.9645\n",
            "Epoch 16/100\n",
            "420/420 - 1s - loss: 0.1196 - accuracy: 0.9618 - val_loss: 0.1152 - val_accuracy: 0.9642\n",
            "Epoch 17/100\n",
            "420/420 - 1s - loss: 0.1188 - accuracy: 0.9619 - val_loss: 0.1142 - val_accuracy: 0.9628\n",
            "Epoch 18/100\n",
            "420/420 - 1s - loss: 0.1158 - accuracy: 0.9632 - val_loss: 0.1093 - val_accuracy: 0.9669\n",
            "Epoch 19/100\n",
            "420/420 - 2s - loss: 0.1153 - accuracy: 0.9632 - val_loss: 0.1104 - val_accuracy: 0.9666\n",
            "Epoch 20/100\n",
            "420/420 - 2s - loss: 0.1133 - accuracy: 0.9637 - val_loss: 0.1088 - val_accuracy: 0.9656\n",
            "Epoch 21/100\n",
            "420/420 - 2s - loss: 0.1110 - accuracy: 0.9639 - val_loss: 0.1077 - val_accuracy: 0.9645\n",
            "Epoch 22/100\n",
            "420/420 - 2s - loss: 0.1103 - accuracy: 0.9640 - val_loss: 0.1109 - val_accuracy: 0.9642\n",
            "Epoch 23/100\n",
            "420/420 - 2s - loss: 0.1101 - accuracy: 0.9653 - val_loss: 0.1061 - val_accuracy: 0.9650\n",
            "Epoch 24/100\n",
            "420/420 - 2s - loss: 0.1069 - accuracy: 0.9660 - val_loss: 0.1115 - val_accuracy: 0.9642\n",
            "Epoch 25/100\n",
            "420/420 - 2s - loss: 0.1086 - accuracy: 0.9659 - val_loss: 0.1002 - val_accuracy: 0.9664\n",
            "Epoch 26/100\n",
            "420/420 - 1s - loss: 0.1046 - accuracy: 0.9665 - val_loss: 0.1155 - val_accuracy: 0.9586\n",
            "Epoch 27/100\n",
            "420/420 - 1s - loss: 0.1051 - accuracy: 0.9670 - val_loss: 0.1011 - val_accuracy: 0.9696\n",
            "Epoch 28/100\n",
            "420/420 - 1s - loss: 0.1044 - accuracy: 0.9673 - val_loss: 0.1114 - val_accuracy: 0.9638\n",
            "Epoch 29/100\n",
            "420/420 - 1s - loss: 0.1046 - accuracy: 0.9672 - val_loss: 0.1118 - val_accuracy: 0.9647\n",
            "Epoch 30/100\n",
            "420/420 - 1s - loss: 0.1046 - accuracy: 0.9670 - val_loss: 0.1018 - val_accuracy: 0.9678\n",
            "Epoch 00030: early stopping\n",
            "Model: \"sequential_1\"\n",
            "_________________________________________________________________\n",
            "Layer (type)                 Output Shape              Param #   \n",
            "=================================================================\n",
            "conv1d (Conv1D)              (None, 36, 256)           1280      \n",
            "_________________________________________________________________\n",
            "max_pooling1d (MaxPooling1D) (None, 18, 256)           0         \n",
            "_________________________________________________________________\n",
            "conv1d_1 (Conv1D)            (None, 15, 128)           131200    \n",
            "_________________________________________________________________\n",
            "max_pooling1d_1 (MaxPooling1 (None, 7, 128)            0         \n",
            "_________________________________________________________________\n",
            "flatten (Flatten)            (None, 896)               0         \n",
            "_________________________________________________________________\n",
            "dense_4 (Dense)              (None, 100)               89700     \n",
            "_________________________________________________________________\n",
            "dense_5 (Dense)              (None, 2)                 202       \n",
            "=================================================================\n",
            "Total params: 222,382\n",
            "Trainable params: 222,382\n",
            "Non-trainable params: 0\n",
            "_________________________________________________________________\n"
          ],
          "name": "stdout"
        }
      ]
    },
    {
      "cell_type": "code",
      "metadata": {
        "id": "8YzgHAxC06dZ",
        "colab": {
          "base_uri": "https://localhost:8080/",
          "height": 797
        },
        "outputId": "07c91b6d-a34c-498c-9b05-ef05fd8289b6"
      },
      "source": [
        "y_pred = model.predict(x_test_cnn)\n",
        "y_pred = y_pred.argmax(axis=1)\n",
        "\n",
        "#CONFUSION MATRIX\n",
        "cm = confusion_matrix(y_test, y_pred)\n",
        "\n",
        "print(cm)\n",
        "plot_confusion_matrix(cm,['0','1']) \n",
        "\n",
        "# Print classification report\n",
        "print(metrics.classification_report(y_test, y_pred)) \n",
        "\n",
        "score_test = np.sqrt(metrics.mean_squared_error(y_pred,y_test))\n",
        "print(\"Score_test (RMSE): {}\".format(score_test))\n",
        "\n",
        "\n",
        "#PLOT ROC CURVE\n",
        "plot_roc(y_pred,y_test)"
      ],
      "execution_count": null,
      "outputs": [
        {
          "output_type": "stream",
          "text": [
            "[[2726  157]\n",
            " [  36 2829]]\n",
            "              precision    recall  f1-score   support\n",
            "\n",
            "           0       0.99      0.95      0.97      2883\n",
            "           1       0.95      0.99      0.97      2865\n",
            "\n",
            "    accuracy                           0.97      5748\n",
            "   macro avg       0.97      0.97      0.97      5748\n",
            "weighted avg       0.97      0.97      0.97      5748\n",
            "\n",
            "Score_test (RMSE): 0.18323999648483028\n"
          ],
          "name": "stdout"
        },
        {
          "output_type": "display_data",
          "data": {
            "image/png": "[encoded data removed]",
            "text/plain": [
              "<Figure size 432x288 with 2 Axes>"
            ]
          },
          "metadata": {
            "tags": [],
            "needs_background": "light"
          }
        },
        {
          "output_type": "display_data",
          "data": {
            "image/png": "[encoded data removed]",
            "text/plain": [
              "<Figure size 432x288 with 1 Axes>"
            ]
          },
          "metadata": {
            "tags": [],
            "needs_background": "light"
          }
        }
      ]
    },
    {
      "cell_type": "code",
      "metadata": {
        "id": "rK3D-VeitRW8"
      },
      "source": [
        ""
      ],
      "execution_count": null,
      "outputs": []
    }
  ]
}